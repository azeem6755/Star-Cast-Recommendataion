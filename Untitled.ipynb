{
 "cells": [
  {
   "cell_type": "code",
   "execution_count": 1,
   "metadata": {},
   "outputs": [],
   "source": [
    "import pandas as pd\n",
    "import numpy as np\n",
    "from collections import Counter\n",
    "from mlxtend.preprocessing import TransactionEncoder  #TransactionEncoder is used for conversion into numerical values\n",
    "from mlxtend.frequent_patterns import apriori\n",
    "from mlxtend.frequent_patterns import association_rules\n",
    "import random"
   ]
  },
  {
   "cell_type": "code",
   "execution_count": 2,
   "metadata": {},
   "outputs": [],
   "source": [
    "def eval_func(a):\n",
    "    return eval(str(a))\n",
    "def mul_func(a):\n",
    "    return int(a)*500\n",
    "def make_list(a):\n",
    "    return list(a)\n",
    "def div_func(a):\n",
    "    return int(a/500)"
   ]
  },
  {
   "cell_type": "code",
   "execution_count": 3,
   "metadata": {},
   "outputs": [],
   "source": [
    "df = pd.read_csv('files/newresultapriori.csv')\n",
    "df['itemsets'] = df['itemsets'].apply(eval_func)\n",
    "df['support'] = df['support'].apply(eval_func)"
   ]
  },
  {
   "cell_type": "code",
   "execution_count": 4,
   "metadata": {},
   "outputs": [],
   "source": [
    "df2 = pd.read_csv('files/TopActors.csv')\n",
    "df2 = df2.drop(columns=['Unnamed: 0'])\n",
    "df2['Top 10 Actors'] = df2['Top 10 Actors'].apply(eval_func)"
   ]
  },
  {
   "cell_type": "code",
   "execution_count": 5,
   "metadata": {},
   "outputs": [],
   "source": [
    "req = pd.read_csv('req.csv')\n",
    "req['normalizedRating'] = req['normalizedRating'].apply(eval_func)\n",
    "req['googleHits'] = req['googleHits'].apply(eval_func).apply(div_func)"
   ]
  },
  {
   "cell_type": "code",
   "execution_count": 6,
   "metadata": {},
   "outputs": [],
   "source": [
    "import sys\n",
    "\n",
    "#\n",
    "\n",
    "\n",
    "def getItemsUsed(w,c):\n",
    "    # item count\n",
    "    i = c.__len__()-1\n",
    "    # weight\n",
    "    print(c[0])\n",
    "    currentW =  len(c[0])-1\n",
    "    \n",
    "    # set everything to not marked\n",
    "    marked = []\n",
    "    for i in range(i+1):\n",
    "        marked.append(0)\n",
    "\n",
    "    while (i >= 0 and currentW >=0):\n",
    "        # if this weight is different than\n",
    "        # the same weight for the last item\n",
    "        # then we used this item to get this profit\n",
    "        #\n",
    "        # if the number is the same we could not add\n",
    "        # this item because it was too heavy\t\t\n",
    "        if (i==0 and c[i,np.int(currentW)] >0 )or c[i,np.int(currentW)] != c[i-1,np.int(currentW)]:\n",
    "            marked[i] =1\n",
    "            currentW = currentW-w[i]\n",
    "        i = i-1\n",
    "    return marked\n",
    "\n",
    "\n",
    "\n",
    "\n",
    "# v = list of item values or profit\n",
    "# w = list of item weight or cost\n",
    "# W = max weight or max cost for the knapsack\n",
    "def zeroOneKnapsack(profit, weight, total):\n",
    "    # c is the cost matrix\n",
    "    n = profit.__len__()\n",
    "    #  set inital values to zero\n",
    "    selection = np.zeros((n,total+1))\n",
    "    #the rows of the matrix are weights\n",
    "    #and the columns are items\n",
    "    #cell c[i,j] is the optimal profit\n",
    "    #for i items of cost j\n",
    "    print(weight)\n",
    "    #print(cost)\n",
    "    #for every item\n",
    "    for i in range(0,n):\n",
    "        #for ever possible weight\n",
    "        for j in range(0,total+1):\n",
    "            #if this weight can be added to this cell\n",
    "            #then add it if it is better than what we aready have\n",
    "\n",
    "            if (weight[i] > j):\n",
    "\t\t\t\t# this item is to large or heavy to add\n",
    "\t\t\t\t# so we just keep what we aready have\n",
    "\t\t\t\t\n",
    "                selection[i,j] = selection[i-1,j]\n",
    "            else:\n",
    "\t\t\t\t# we can add this item if it gives us more value\n",
    "\t\t\t\t# than skipping it\n",
    "\t\t\t\t\n",
    "\t\t\t\t# c[i-1][j-w[i]] is the max profit for the remaining \n",
    "\t\t\t\t# weight after we add this item.\n",
    "\t\t\t\t\n",
    "\t\t\t\t# if we add the profit of this item to the max profit\n",
    "\t\t\t\t# of the remaining weight and it is more than \n",
    "\t\t\t\t# adding nothing , then it't the new max profit\n",
    "\t\t\t\t# if not just add nothing.\n",
    "\t\t\t\t\n",
    "                selection[i,j] = np.maximum(selection[i-1,j],profit[i]+selection[i-1,j-np.int(weight[i])])\n",
    "    return [selection[n-1,np.int(total)],getItemsUsed(weight,selection)]"
   ]
  },
  {
   "cell_type": "code",
   "execution_count": 7,
   "metadata": {},
   "outputs": [],
   "source": [
    "rules = association_rules(df,metric='lift',min_threshold=10)"
   ]
  },
  {
   "cell_type": "code",
   "execution_count": 8,
   "metadata": {},
   "outputs": [
    {
     "name": "stdout",
     "output_type": "stream",
     "text": [
      "['Adventure', 'Action', 'Comedy', 'Crime', 'Drama', 'Family', 'Fantasy', 'Thriller', 'Romance', 'Horror', 'Musical']\n",
      "Choose a genre: action\n",
      "Insert budget of the movie in crores: 20\n"
     ]
    }
   ],
   "source": [
    "genre_list = ['Adventure','Action','Comedy','Crime','Drama','Family','Fantasy','Thriller','Romance','Horror','Musical']\n",
    "print(genre_list)\n",
    "input_genre = input('Choose a genre: ')\n",
    "budget = int(input('Insert budget of the movie in crores: '))*100000\n",
    "#number = int(input('Number of actors: '))"
   ]
  },
  {
   "cell_type": "code",
   "execution_count": null,
   "metadata": {},
   "outputs": [],
   "source": []
  },
  {
   "cell_type": "code",
   "execution_count": 9,
   "metadata": {},
   "outputs": [
    {
     "name": "stdout",
     "output_type": "stream",
     "text": [
      "Kareena Kapoor\n",
      "2000000\n"
     ]
    }
   ],
   "source": [
    "abascus = list(df2[df2['Genre'] == input_genre.capitalize()]['Top 10 Actors'])\n",
    "top_actor = abascus[0][random.randint(0,9)][0]\n",
    "c = []\n",
    "a = list(rules[rules['antecedents'].apply(lambda x:set([top_actor]).issubset(x))]['consequents'])\n",
    "for each in a:\n",
    "    if len(eval_func(each))>1:\n",
    "          c.append(each)\n",
    "print(top_actor)\n",
    "print(budget)"
   ]
  },
  {
   "cell_type": "code",
   "execution_count": 10,
   "metadata": {},
   "outputs": [],
   "source": [
    "supporting_actors = list(frozenset.union(*c))"
   ]
  },
  {
   "cell_type": "code",
   "execution_count": 11,
   "metadata": {},
   "outputs": [],
   "source": [
    "supporting_actors.append(top_actor)"
   ]
  },
  {
   "cell_type": "code",
   "execution_count": 12,
   "metadata": {},
   "outputs": [
    {
     "data": {
      "text/plain": [
       "['Ajay Devgn',\n",
       " 'Amrish Puri',\n",
       " 'Abhishek Bachchan',\n",
       " 'Jackie Shroff',\n",
       " 'Esha Deol',\n",
       " 'Sunil Shetty',\n",
       " 'Anil Kapoor',\n",
       " 'Akshaye Khanna',\n",
       " 'Saif Ali Khan',\n",
       " 'Isha Koppikar',\n",
       " 'Arjun Rampal',\n",
       " 'Shahid Kapoor',\n",
       " 'Jaya Bachchan',\n",
       " 'Shreyas Talpade',\n",
       " 'Akshay Kumar',\n",
       " 'Amitabh Bachchan',\n",
       " 'Tusshar Kapoor',\n",
       " 'Vivek Oberoi',\n",
       " 'Paresh Rawal',\n",
       " 'Shah Rukh Khan',\n",
       " 'Arshad Warsi',\n",
       " 'Ajay Devgan',\n",
       " 'Anupam Kher',\n",
       " 'Om Puri',\n",
       " 'Kareena Kapoor']"
      ]
     },
     "execution_count": 12,
     "metadata": {},
     "output_type": "execute_result"
    }
   ],
   "source": [
    "supporting_actors"
   ]
  },
  {
   "cell_type": "code",
   "execution_count": null,
   "metadata": {},
   "outputs": [],
   "source": []
  },
  {
   "cell_type": "code",
   "execution_count": null,
   "metadata": {},
   "outputs": [],
   "source": []
  },
  {
   "cell_type": "code",
   "execution_count": 13,
   "metadata": {},
   "outputs": [],
   "source": [
    "daa = req.loc[req['actorName'].isin(supporting_actors)]\n",
    "profit = list(daa['normalizedRating'].values)\n",
    "cost = list(daa['googleHits'].values)"
   ]
  },
  {
   "cell_type": "code",
   "execution_count": 64,
   "metadata": {},
   "outputs": [
    {
     "name": "stdout",
     "output_type": "stream",
     "text": [
      "     Unnamed: 0          actorName  googleHits  normalizedRating\n",
      "36           36        Sanjay Dutt        3120           5.00264\n",
      "73           73       Arshad Warsi         434           3.55964\n",
      "170         170  Aashish Chaudhary          57           2.29190\n",
      "262         262      Javed Jaffrey         470           1.22302\n",
      "273         273      Chunky Pandey         470           1.11151\n"
     ]
    }
   ],
   "source": [
    "print(daa)"
   ]
  },
  {
   "cell_type": "code",
   "execution_count": 65,
   "metadata": {},
   "outputs": [
    {
     "name": "stdout",
     "output_type": "stream",
     "text": [
      "[3120, 434, 57, 470, 470]\n",
      "[0. 0. 0. ... 0. 0. 0.]\n",
      "[8.186069847, [1, 1, 1, 1, 1]]\n"
     ]
    }
   ],
   "source": [
    "#rofit = np.array([60,100,120])\n",
    "#cost = np.array([10,20,30])\n",
    "W = np.int(div_func(budget))\n",
    "#W = 50\n",
    "if W<0:\n",
    "    print('Budget too low for the desired genre')\n",
    "select = zeroOneKnapsack(profit,cost,W)\n",
    "print(select)"
   ]
  },
  {
   "cell_type": "code",
   "execution_count": 66,
   "metadata": {},
   "outputs": [
    {
     "name": "stdout",
     "output_type": "stream",
     "text": [
      "[0, 1, 2, 3, 4]\n"
     ]
    }
   ],
   "source": [
    "name_index = []\n",
    "for i in range(0,len(select[1])):\n",
    "    if select[1][i] == 1:\n",
    "        name_index.append(i)\n",
    "print(name_index)\n",
    "bud = []\n",
    "for each in name_index:\n",
    "    bud.append(cost[int(each)])"
   ]
  },
  {
   "cell_type": "code",
   "execution_count": null,
   "metadata": {},
   "outputs": [],
   "source": []
  },
  {
   "cell_type": "code",
   "execution_count": 17,
   "metadata": {},
   "outputs": [],
   "source": [
    "#"
   ]
  },
  {
   "cell_type": "code",
   "execution_count": 67,
   "metadata": {},
   "outputs": [
    {
     "name": "stdout",
     "output_type": "stream",
     "text": [
      "['Riteish Deshmukh', 'Sanjay Dutt', 'Arshad Warsi', 'Aashish Chaudhary', 'Chunky Pandey']\n"
     ]
    }
   ],
   "source": [
    "name = []\n",
    "for each in name_index:\n",
    "    name.append(supporting_actors[int(each)])\n",
    "print(name)"
   ]
  },
  {
   "cell_type": "code",
   "execution_count": 68,
   "metadata": {},
   "outputs": [],
   "source": [
    "to = mul_func(sum(bud))"
   ]
  },
  {
   "cell_type": "code",
   "execution_count": 69,
   "metadata": {},
   "outputs": [
    {
     "name": "stdout",
     "output_type": "stream",
     "text": [
      "The optimal cast in the given budget is:  ['Riteish Deshmukh', 'Sanjay Dutt', 'Arshad Warsi', 'Aashish Chaudhary', 'Chunky Pandey']\n",
      "The total cost of casting is: Rs. 22.755 crores\n"
     ]
    }
   ],
   "source": [
    "print('The optimal cast in the given budget is: ',name)\n",
    "print('The total cost of casting is: Rs. {0} crores'.format(int(to)/100000))"
   ]
  },
  {
   "cell_type": "code",
   "execution_count": 21,
   "metadata": {},
   "outputs": [
    {
     "data": {
      "text/plain": [
       "[29.4, 1.76]"
      ]
     },
     "execution_count": 21,
     "metadata": {},
     "output_type": "execute_result"
    }
   ],
   "source": [
    "bud = [each*500 for each in bud]\n",
    "bud = [each/100000 for each in bud]\n",
    "bud"
   ]
  },
  {
   "cell_type": "code",
   "execution_count": 22,
   "metadata": {},
   "outputs": [],
   "source": [
    "import sys\n",
    "\n",
    "#\n",
    "\n",
    "\n",
    "def getItemsUsed(w,c):\n",
    "    # item count\n",
    "    i = c.__len__()-1\n",
    "    # weight\n",
    "    currentW =  len(c[0])-1\n",
    "    \n",
    "    # set everything to not marked\n",
    "    marked = []\n",
    "    for i in range(i+1):\n",
    "        marked.append(0)\n",
    "\n",
    "    while (i >= 0 and currentW >=0):\n",
    "        # if this weight is different than\n",
    "        # the same weight for the last item\n",
    "        # then we used this item to get this profit\n",
    "        #\n",
    "        # if the number is the same we could not add\n",
    "        # this item because it was too heavy\t\t\n",
    "        if (i==0 and c[i,np.int(currentW)] >0 )or c[i,np.int(currentW)] != c[i-1,np.int(currentW)]:\n",
    "            marked[i] =1\n",
    "            currentW = currentW-w[i]\n",
    "        i = i-1\n",
    "    return marked\n",
    "\n",
    "\n",
    "\n",
    "\n",
    "# v = list of item values or profit\n",
    "# w = list of item weight or cost\n",
    "# W = max weight or max cost for the knapsack\n",
    "def zeroOneKnapsack(profit, weight, total):\n",
    "    # c is the cost matrix\n",
    "    n = profit.__len__()\n",
    "    #  set inital values to zero\n",
    "    selection = np.zeros((n,total+1))\n",
    "    #the rows of the matrix are weights\n",
    "    #and the columns are items\n",
    "    #cell c[i,j] is the optimal profit\n",
    "    #for i items of cost j\n",
    "    print(weight)\n",
    "    #print(cost)\n",
    "    #for every item\n",
    "    for i in range(0,n):\n",
    "        #for ever possible weight\n",
    "        for j in range(0,total+1):\n",
    "            #if this weight can be added to this cell\n",
    "            #then add it if it is better than what we aready have\n",
    "\n",
    "            if (weight[i] > j):\n",
    "\t\t\t\t# this item is to large or heavy to add\n",
    "\t\t\t\t# so we just keep what we aready have\n",
    "\t\t\t\t\n",
    "                selection[i,j] = selection[i-1,j]\n",
    "            else:\n",
    "\t\t\t\t# we can add this item if it gives us more value\n",
    "\t\t\t\t# than skipping it\n",
    "\t\t\t\t\n",
    "\t\t\t\t# c[i-1][j-w[i]] is the max profit for the remaining \n",
    "\t\t\t\t# weight after we add this item.\n",
    "\t\t\t\t\n",
    "\t\t\t\t# if we add the profit of this item to the max profit\n",
    "\t\t\t\t# of the remaining weight and it is more than \n",
    "\t\t\t\t# adding nothing , then it't the new max profit\n",
    "\t\t\t\t# if not just add nothing.\n",
    "\t\t\t\t\n",
    "                selection[i,j] = np.maximum(selection[i-1,j],profit[i]+selection[i-1,j-np.int(weight[i])])\n",
    "    return [selection[n-1,np.int(total)],getItemsUsed(weight,selection)]\n"
   ]
  },
  {
   "cell_type": "code",
   "execution_count": null,
   "metadata": {},
   "outputs": [],
   "source": []
  },
  {
   "cell_type": "code",
   "execution_count": null,
   "metadata": {},
   "outputs": [],
   "source": []
  },
  {
   "cell_type": "code",
   "execution_count": null,
   "metadata": {},
   "outputs": [],
   "source": []
  }
 ],
 "metadata": {
  "kernelspec": {
   "display_name": "Python 3",
   "language": "python",
   "name": "python3"
  },
  "language_info": {
   "codemirror_mode": {
    "name": "ipython",
    "version": 3
   },
   "file_extension": ".py",
   "mimetype": "text/x-python",
   "name": "python",
   "nbconvert_exporter": "python",
   "pygments_lexer": "ipython3",
   "version": "3.6.5"
  }
 },
 "nbformat": 4,
 "nbformat_minor": 2
}
