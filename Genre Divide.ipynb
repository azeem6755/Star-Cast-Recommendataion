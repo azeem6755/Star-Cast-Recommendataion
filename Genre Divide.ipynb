{
 "cells": [
  {
   "cell_type": "code",
   "execution_count": 1,
   "metadata": {},
   "outputs": [],
   "source": [
    "import pandas as pd\n",
    "import matplotlib.pyplot as plt\n",
    "import numpy as np\n",
    "plt.rcParams['figure.figsize'] = [15,10]"
   ]
  },
  {
   "cell_type": "code",
   "execution_count": 2,
   "metadata": {},
   "outputs": [],
   "source": [
    "movie_data = pd.read_csv('files/BollywoodMovieDetail.csv')\n",
    "genre_divide = movie_data['genre']\n",
    "genre_divide.unique()\n",
    "genre_divide = movie_data[movie_data['genre'].isna()==False]\n",
    "genres = movie_data['genre']\n",
    "G = []\n",
    "for i in range(len(genres)):\n",
    "    a = str(genres[i]).split('|')\n",
    "    a = [z.strip() for z in a]\n",
    "    G.append(a)\n",
    "genres = pd.DataFrame(G,columns = ['Genre 1','Genre 2','Genre 3'])\n",
    "#genres = genres.dropna()\n",
    "big_genre_divide = pd.concat([genre_divide,genres],axis=1)"
   ]
  },
  {
   "cell_type": "code",
   "execution_count": 3,
   "metadata": {},
   "outputs": [],
   "source": [
    "genre1 = genres['Genre 1']\n",
    "genre2 = genres['Genre 2']\n",
    "genre3 = genres['Genre 3']\n",
    "genre1 = [i for i in genre1]\n",
    "genre2 = [i for i in genre2]\n",
    "genre3 = [i for i in genre3]\n",
    "Genre = genre1+genre2+genre3\n",
    "Genre2 = pd.DataFrame(Genre,columns=['genre'])\n",
    "Genre3 = pd.DataFrame(Genre2['genre'].value_counts())"
   ]
  },
  {
   "cell_type": "code",
   "execution_count": 4,
   "metadata": {},
   "outputs": [],
   "source": [
    "genre_year_divide = big_genre_divide\n",
    "genre_year_divide1 = genre_year_divide[['releaseYear','Genre 1','Genre 2','Genre 3']]\n",
    "#genre_year_divide1.dropna()\n",
    "genre_year_divide1\n",
    "genre_year_divide2 = pd.melt(genre_year_divide1, id_vars=['releaseYear'], var_name='Genre_Name', value_name='Genre_Value')\n",
    "genre_year_divide2.drop('Genre_Name',axis=1,inplace=True)\n",
    "genre_year_divide2 = genre_year_divide2.dropna()"
   ]
  },
  {
   "cell_type": "code",
   "execution_count": 5,
   "metadata": {},
   "outputs": [],
   "source": [
    "genre_year_divide3 = genre_year_divide2.groupby('releaseYear')\n",
    "genre_year_divide4 = pd.DataFrame(columns=genre_year_divide2.columns)\n",
    "for i,j in genre_year_divide3:\n",
    "    genre_year_divide4 = pd.concat([genre_year_divide4,j],ignore_index=True)\n",
    "genre_year_divide4.head()\n",
    "genre_year_divide4['Genre_Value'].value_counts()\n",
    "genre_year_divide8 = genre_year_divide4.groupby(['Genre_Value','releaseYear'])\n",
    "y = pd.DataFrame()\n",
    "l = []\n",
    "for a,b in genre_year_divide8:\n",
    "    l.append({'Genre':a[0],'Year':a[1],'Count':b['Genre_Value'].count()})\n",
    "y = pd.DataFrame(l)\n",
    "y = y.set_index('Genre')"
   ]
  },
  {
   "cell_type": "markdown",
   "metadata": {},
   "source": [
    "# Giving genres to actors"
   ]
  },
  {
   "cell_type": "code",
   "execution_count": 6,
   "metadata": {},
   "outputs": [
    {
     "output_type": "execute_result",
     "data": {
      "text/plain": [
       "          Actor 1                 Actor 2         Actor 3            Actor 4\n",
       "0         Govinda  Aishwarya Rai Bachchan   Jackie Shroff  Namrata Shirodkar\n",
       "1      Aamir Khan             Gracy Singh  Rachel Shelley   Paul Blackthorne\n",
       "2    Akshay Kumar                 Sridevi  Gulshan Grover    Laxmikant Berde\n",
       "3  Shah Rukh Khan           Madhuri Dixit     Salman Khan     Atul Agnihotri\n",
       "4  Shah Rukh Khan             Juhi Chawla   Jackie Shroff      Nirmal Pandey"
      ],
      "text/html": "<div>\n<style scoped>\n    .dataframe tbody tr th:only-of-type {\n        vertical-align: middle;\n    }\n\n    .dataframe tbody tr th {\n        vertical-align: top;\n    }\n\n    .dataframe thead th {\n        text-align: right;\n    }\n</style>\n<table border=\"1\" class=\"dataframe\">\n  <thead>\n    <tr style=\"text-align: right;\">\n      <th></th>\n      <th>Actor 1</th>\n      <th>Actor 2</th>\n      <th>Actor 3</th>\n      <th>Actor 4</th>\n    </tr>\n  </thead>\n  <tbody>\n    <tr>\n      <th>0</th>\n      <td>Govinda</td>\n      <td>Aishwarya Rai Bachchan</td>\n      <td>Jackie Shroff</td>\n      <td>Namrata Shirodkar</td>\n    </tr>\n    <tr>\n      <th>1</th>\n      <td>Aamir Khan</td>\n      <td>Gracy Singh</td>\n      <td>Rachel Shelley</td>\n      <td>Paul Blackthorne</td>\n    </tr>\n    <tr>\n      <th>2</th>\n      <td>Akshay Kumar</td>\n      <td>Sridevi</td>\n      <td>Gulshan Grover</td>\n      <td>Laxmikant Berde</td>\n    </tr>\n    <tr>\n      <th>3</th>\n      <td>Shah Rukh Khan</td>\n      <td>Madhuri Dixit</td>\n      <td>Salman Khan</td>\n      <td>Atul Agnihotri</td>\n    </tr>\n    <tr>\n      <th>4</th>\n      <td>Shah Rukh Khan</td>\n      <td>Juhi Chawla</td>\n      <td>Jackie Shroff</td>\n      <td>Nirmal Pandey</td>\n    </tr>\n  </tbody>\n</table>\n</div>"
     },
     "metadata": {},
     "execution_count": 6
    }
   ],
   "source": [
    "movie_data = pd.read_csv('files/BollywoodMovieDetail.csv')\n",
    "actor = movie_data['actors']\n",
    "actor.dropna()\n",
    "actor = actor.reset_index(drop=True)\n",
    "x = []\n",
    "for i in range(len(actor)):\n",
    "    a = str(actor[i]).split('|')\n",
    "    a = [z.strip() for z in a]\n",
    "    x.append(a)\n",
    "actor_divide = pd.DataFrame(x,columns=['Actor 1','Actor 2','Actor 3','Actor 4'])\n",
    "actor_divide.head()"
   ]
  },
  {
   "cell_type": "code",
   "execution_count": 7,
   "metadata": {},
   "outputs": [
    {
     "output_type": "execute_result",
     "data": {
      "text/plain": [
       "             Actor 1                 Actor 2                 Actor 3  \\\n",
       "0            Govinda  Aishwarya Rai Bachchan           Jackie Shroff   \n",
       "1         Aamir Khan             Gracy Singh          Rachel Shelley   \n",
       "2       Akshay Kumar                 Sridevi          Gulshan Grover   \n",
       "3     Shah Rukh Khan           Madhuri Dixit             Salman Khan   \n",
       "4     Shah Rukh Khan             Juhi Chawla           Jackie Shroff   \n",
       "5     Shah Rukh Khan           Madhuri Dixit  Aishwarya Rai Bachchan   \n",
       "6     Hrithik Roshan           Ameesha Patel             Kiran Kumar   \n",
       "7   Amitabh Bachchan            Jaya Bhaduri          Shah Rukh Khan   \n",
       "8      Saif Ali Khan          Hrithik Roshan               Esha Deol   \n",
       "9      Jackie Shroff          Hrithik Roshan          Kareena Kapoor   \n",
       "10    Karisma Kapoor                   Rekha          Manoj Bajpayee   \n",
       "11      Preity Zinta             Salman Khan            Rani Mukerji   \n",
       "12    Hrithik Roshan          Kareena Kapoor       Abhishek Bachchan   \n",
       "13      Sunil Shetty          Raveena Tandon         Danny Denzongpa   \n",
       "14              Tabu           Atul Kulkarni            Rajpal Yadav   \n",
       "15             Kajol            Rishi Kapoor          Rati Agnihotri   \n",
       "16         Dev Anand             Hema Malini           Shammi Kapoor   \n",
       "17        Sunny Deol            Preity Zinta           Jackie Shroff   \n",
       "18             Rekha        Naseeruddin Shah            Arshad Warsi   \n",
       "19      Rani Mukerji          Hrithik Roshan          Kareena Kapoor   \n",
       "\n",
       "                Actor 4    Genre 1    Genre 2  Genre 3  \n",
       "0     Namrata Shirodkar    Romance       None     None  \n",
       "1      Paul Blackthorne  Adventure      Drama  Musical  \n",
       "2       Laxmikant Berde     Action     Comedy     None  \n",
       "3        Atul Agnihotri      Drama    Romance     None  \n",
       "4         Nirmal Pandey     Action     Comedy    Drama  \n",
       "5         Jackie Shroff    Musical    Romance     None  \n",
       "6         Mukesh Tiwari     Action      Drama  Romance  \n",
       "7                 Kajol      Drama    Musical  Romance  \n",
       "8             Alok Nath     Comedy      Drama  Musical  \n",
       "9           Amrish Puri    Musical      Drama  Romance  \n",
       "10         Rajit Kapoor  Adventure  Biography    Drama  \n",
       "11          Amrish Puri      Drama    Musical  Romance  \n",
       "12         Johnny Lever    Musical      Drama  Romance  \n",
       "13  Sadashiv Amrapurkar     Action      Crime    Drama  \n",
       "14    Shri Vallabh Vyas      Crime      Drama     None  \n",
       "15         Sunil Shetty      Drama     Family     None  \n",
       "16                Rekha    Musical    Romance     None  \n",
       "17              Om Puri     Action       None     None  \n",
       "18    Suman Ranganathan     Comedy    Musical   Family  \n",
       "19          Uday Chopra    Musical    Romance    Drama  "
      ],
      "text/html": "<div>\n<style scoped>\n    .dataframe tbody tr th:only-of-type {\n        vertical-align: middle;\n    }\n\n    .dataframe tbody tr th {\n        vertical-align: top;\n    }\n\n    .dataframe thead th {\n        text-align: right;\n    }\n</style>\n<table border=\"1\" class=\"dataframe\">\n  <thead>\n    <tr style=\"text-align: right;\">\n      <th></th>\n      <th>Actor 1</th>\n      <th>Actor 2</th>\n      <th>Actor 3</th>\n      <th>Actor 4</th>\n      <th>Genre 1</th>\n      <th>Genre 2</th>\n      <th>Genre 3</th>\n    </tr>\n  </thead>\n  <tbody>\n    <tr>\n      <th>0</th>\n      <td>Govinda</td>\n      <td>Aishwarya Rai Bachchan</td>\n      <td>Jackie Shroff</td>\n      <td>Namrata Shirodkar</td>\n      <td>Romance</td>\n      <td>None</td>\n      <td>None</td>\n    </tr>\n    <tr>\n      <th>1</th>\n      <td>Aamir Khan</td>\n      <td>Gracy Singh</td>\n      <td>Rachel Shelley</td>\n      <td>Paul Blackthorne</td>\n      <td>Adventure</td>\n      <td>Drama</td>\n      <td>Musical</td>\n    </tr>\n    <tr>\n      <th>2</th>\n      <td>Akshay Kumar</td>\n      <td>Sridevi</td>\n      <td>Gulshan Grover</td>\n      <td>Laxmikant Berde</td>\n      <td>Action</td>\n      <td>Comedy</td>\n      <td>None</td>\n    </tr>\n    <tr>\n      <th>3</th>\n      <td>Shah Rukh Khan</td>\n      <td>Madhuri Dixit</td>\n      <td>Salman Khan</td>\n      <td>Atul Agnihotri</td>\n      <td>Drama</td>\n      <td>Romance</td>\n      <td>None</td>\n    </tr>\n    <tr>\n      <th>4</th>\n      <td>Shah Rukh Khan</td>\n      <td>Juhi Chawla</td>\n      <td>Jackie Shroff</td>\n      <td>Nirmal Pandey</td>\n      <td>Action</td>\n      <td>Comedy</td>\n      <td>Drama</td>\n    </tr>\n    <tr>\n      <th>5</th>\n      <td>Shah Rukh Khan</td>\n      <td>Madhuri Dixit</td>\n      <td>Aishwarya Rai Bachchan</td>\n      <td>Jackie Shroff</td>\n      <td>Musical</td>\n      <td>Romance</td>\n      <td>None</td>\n    </tr>\n    <tr>\n      <th>6</th>\n      <td>Hrithik Roshan</td>\n      <td>Ameesha Patel</td>\n      <td>Kiran Kumar</td>\n      <td>Mukesh Tiwari</td>\n      <td>Action</td>\n      <td>Drama</td>\n      <td>Romance</td>\n    </tr>\n    <tr>\n      <th>7</th>\n      <td>Amitabh Bachchan</td>\n      <td>Jaya Bhaduri</td>\n      <td>Shah Rukh Khan</td>\n      <td>Kajol</td>\n      <td>Drama</td>\n      <td>Musical</td>\n      <td>Romance</td>\n    </tr>\n    <tr>\n      <th>8</th>\n      <td>Saif Ali Khan</td>\n      <td>Hrithik Roshan</td>\n      <td>Esha Deol</td>\n      <td>Alok Nath</td>\n      <td>Comedy</td>\n      <td>Drama</td>\n      <td>Musical</td>\n    </tr>\n    <tr>\n      <th>9</th>\n      <td>Jackie Shroff</td>\n      <td>Hrithik Roshan</td>\n      <td>Kareena Kapoor</td>\n      <td>Amrish Puri</td>\n      <td>Musical</td>\n      <td>Drama</td>\n      <td>Romance</td>\n    </tr>\n    <tr>\n      <th>10</th>\n      <td>Karisma Kapoor</td>\n      <td>Rekha</td>\n      <td>Manoj Bajpayee</td>\n      <td>Rajit Kapoor</td>\n      <td>Adventure</td>\n      <td>Biography</td>\n      <td>Drama</td>\n    </tr>\n    <tr>\n      <th>11</th>\n      <td>Preity Zinta</td>\n      <td>Salman Khan</td>\n      <td>Rani Mukerji</td>\n      <td>Amrish Puri</td>\n      <td>Drama</td>\n      <td>Musical</td>\n      <td>Romance</td>\n    </tr>\n    <tr>\n      <th>12</th>\n      <td>Hrithik Roshan</td>\n      <td>Kareena Kapoor</td>\n      <td>Abhishek Bachchan</td>\n      <td>Johnny Lever</td>\n      <td>Musical</td>\n      <td>Drama</td>\n      <td>Romance</td>\n    </tr>\n    <tr>\n      <th>13</th>\n      <td>Sunil Shetty</td>\n      <td>Raveena Tandon</td>\n      <td>Danny Denzongpa</td>\n      <td>Sadashiv Amrapurkar</td>\n      <td>Action</td>\n      <td>Crime</td>\n      <td>Drama</td>\n    </tr>\n    <tr>\n      <th>14</th>\n      <td>Tabu</td>\n      <td>Atul Kulkarni</td>\n      <td>Rajpal Yadav</td>\n      <td>Shri Vallabh Vyas</td>\n      <td>Crime</td>\n      <td>Drama</td>\n      <td>None</td>\n    </tr>\n    <tr>\n      <th>15</th>\n      <td>Kajol</td>\n      <td>Rishi Kapoor</td>\n      <td>Rati Agnihotri</td>\n      <td>Sunil Shetty</td>\n      <td>Drama</td>\n      <td>Family</td>\n      <td>None</td>\n    </tr>\n    <tr>\n      <th>16</th>\n      <td>Dev Anand</td>\n      <td>Hema Malini</td>\n      <td>Shammi Kapoor</td>\n      <td>Rekha</td>\n      <td>Musical</td>\n      <td>Romance</td>\n      <td>None</td>\n    </tr>\n    <tr>\n      <th>17</th>\n      <td>Sunny Deol</td>\n      <td>Preity Zinta</td>\n      <td>Jackie Shroff</td>\n      <td>Om Puri</td>\n      <td>Action</td>\n      <td>None</td>\n      <td>None</td>\n    </tr>\n    <tr>\n      <th>18</th>\n      <td>Rekha</td>\n      <td>Naseeruddin Shah</td>\n      <td>Arshad Warsi</td>\n      <td>Suman Ranganathan</td>\n      <td>Comedy</td>\n      <td>Musical</td>\n      <td>Family</td>\n    </tr>\n    <tr>\n      <th>19</th>\n      <td>Rani Mukerji</td>\n      <td>Hrithik Roshan</td>\n      <td>Kareena Kapoor</td>\n      <td>Uday Chopra</td>\n      <td>Musical</td>\n      <td>Romance</td>\n      <td>Drama</td>\n    </tr>\n  </tbody>\n</table>\n</div>"
     },
     "metadata": {},
     "execution_count": 7
    }
   ],
   "source": [
    "actor_genre_divide = actor_divide\n",
    "temp_genre = genre_year_divide1.loc[:,'Genre 1':'Genre 3']\n",
    "actor_genre_divide = pd.concat([actor_divide,temp_genre],axis=1)\n",
    "actor_genre_divide = actor_genre_divide.loc[:,'Actor 1':'Genre 3']\n",
    "actor_genre_divide.head(20)"
   ]
  },
  {
   "cell_type": "code",
   "execution_count": 8,
   "metadata": {},
   "outputs": [],
   "source": [
    "genre_input = 'comedy'\n",
    "a1 = actor_genre_divide[actor_genre_divide['Genre 1'] == genre_input.capitalize()]\n",
    "a2 = actor_genre_divide[actor_genre_divide['Genre 2'] == genre_input.capitalize()]\n",
    "a3 = actor_genre_divide[actor_genre_divide['Genre 3'] == genre_input.capitalize()]\n",
    "taking_all = a1.append(a2, ignore_index=True).append(a3, ignore_index=True)"
   ]
  },
  {
   "cell_type": "code",
   "execution_count": 9,
   "metadata": {},
   "outputs": [
    {
     "output_type": "execute_result",
     "data": {
      "text/plain": [
       "array(['Saif Ali Khan', 'Hrithik Roshan', 'Esha Deol', 'Alok Nath'],\n",
       "      dtype=object)"
      ]
     },
     "metadata": {},
     "execution_count": 9
    }
   ],
   "source": [
    "test = np.array(taking_all[['Actor 1', 'Actor 2', 'Actor 3', 'Actor 4']])\n",
    "test[0]"
   ]
  },
  {
   "cell_type": "code",
   "execution_count": 10,
   "metadata": {},
   "outputs": [
    {
     "output_type": "error",
     "ename": "NameError",
     "evalue": "name 'TransactionEncoder' is not defined",
     "traceback": [
      "\u001b[0;31m---------------------------------------------------------------------------\u001b[0m",
      "\u001b[0;31mNameError\u001b[0m                                 Traceback (most recent call last)",
      "\u001b[0;32m<ipython-input-10-9d6f36a0846f>\u001b[0m in \u001b[0;36m<module>\u001b[0;34m\u001b[0m\n\u001b[0;32m----> 1\u001b[0;31m \u001b[0mte\u001b[0m \u001b[0;34m=\u001b[0m \u001b[0mTransactionEncoder\u001b[0m\u001b[0;34m(\u001b[0m\u001b[0;34m)\u001b[0m\u001b[0;34m\u001b[0m\u001b[0;34m\u001b[0m\u001b[0m\n\u001b[0m\u001b[1;32m      2\u001b[0m \u001b[0mte\u001b[0m \u001b[0;34m=\u001b[0m \u001b[0mte\u001b[0m\u001b[0;34m.\u001b[0m\u001b[0mfit\u001b[0m\u001b[0;34m(\u001b[0m\u001b[0mtest\u001b[0m\u001b[0;34m)\u001b[0m\u001b[0;34m\u001b[0m\u001b[0;34m\u001b[0m\u001b[0m\n\u001b[1;32m      3\u001b[0m \u001b[0mte_ary\u001b[0m \u001b[0;34m=\u001b[0m \u001b[0mte\u001b[0m\u001b[0;34m.\u001b[0m\u001b[0mtransform\u001b[0m\u001b[0;34m(\u001b[0m\u001b[0mtest\u001b[0m\u001b[0;34m)\u001b[0m\u001b[0;34m\u001b[0m\u001b[0;34m\u001b[0m\u001b[0m\n",
      "\u001b[0;31mNameError\u001b[0m: name 'TransactionEncoder' is not defined"
     ]
    }
   ],
   "source": [
    "te = TransactionEncoder()\n",
    "te = te.fit(test)\n",
    "te_ary = te.transform(test)\n"
   ]
  },
  {
   "cell_type": "code",
   "execution_count": null,
   "metadata": {},
   "outputs": [],
   "source": []
  },
  {
   "cell_type": "code",
   "execution_count": 11,
   "metadata": {},
   "outputs": [],
   "source": [
    "df=pd.melt(actor_genre_divide,id_vars=[\"Genre 1\",\"Genre 2\",\"Genre 3\"],var_name=\"Actor\",value_name=\"Value\")"
   ]
  },
  {
   "cell_type": "code",
   "execution_count": 12,
   "metadata": {},
   "outputs": [
    {
     "output_type": "execute_result",
     "data": {
      "text/plain": [
       "                 Actor      Genre\n",
       "0              Govinda    Romance\n",
       "1           Aamir Khan  Adventure\n",
       "2         Akshay Kumar     Action\n",
       "3       Shah Rukh Khan      Drama\n",
       "4       Shah Rukh Khan     Action\n",
       "...                ...        ...\n",
       "15403           Bramha       None\n",
       "15404             None       None\n",
       "15405    Sanjay Mishra       None\n",
       "15406   Dimple Kapadia       None\n",
       "15407  Karanvir Sharma       None\n",
       "\n",
       "[15408 rows x 2 columns]"
      ],
      "text/html": "<div>\n<style scoped>\n    .dataframe tbody tr th:only-of-type {\n        vertical-align: middle;\n    }\n\n    .dataframe tbody tr th {\n        vertical-align: top;\n    }\n\n    .dataframe thead th {\n        text-align: right;\n    }\n</style>\n<table border=\"1\" class=\"dataframe\">\n  <thead>\n    <tr style=\"text-align: right;\">\n      <th></th>\n      <th>Actor</th>\n      <th>Genre</th>\n    </tr>\n  </thead>\n  <tbody>\n    <tr>\n      <th>0</th>\n      <td>Govinda</td>\n      <td>Romance</td>\n    </tr>\n    <tr>\n      <th>1</th>\n      <td>Aamir Khan</td>\n      <td>Adventure</td>\n    </tr>\n    <tr>\n      <th>2</th>\n      <td>Akshay Kumar</td>\n      <td>Action</td>\n    </tr>\n    <tr>\n      <th>3</th>\n      <td>Shah Rukh Khan</td>\n      <td>Drama</td>\n    </tr>\n    <tr>\n      <th>4</th>\n      <td>Shah Rukh Khan</td>\n      <td>Action</td>\n    </tr>\n    <tr>\n      <th>...</th>\n      <td>...</td>\n      <td>...</td>\n    </tr>\n    <tr>\n      <th>15403</th>\n      <td>Bramha</td>\n      <td>None</td>\n    </tr>\n    <tr>\n      <th>15404</th>\n      <td>None</td>\n      <td>None</td>\n    </tr>\n    <tr>\n      <th>15405</th>\n      <td>Sanjay Mishra</td>\n      <td>None</td>\n    </tr>\n    <tr>\n      <th>15406</th>\n      <td>Dimple Kapadia</td>\n      <td>None</td>\n    </tr>\n    <tr>\n      <th>15407</th>\n      <td>Karanvir Sharma</td>\n      <td>None</td>\n    </tr>\n  </tbody>\n</table>\n<p>15408 rows × 2 columns</p>\n</div>"
     },
     "metadata": {},
     "execution_count": 12
    }
   ],
   "source": [
    "df.columns=['Genre 1', 'Genre 2', 'Genre 3', 'Actor', 'Actor_name']\n",
    "df=df.drop([\"Actor\"],axis=1)\n",
    "df.columns\n",
    "df.columns=['Genre 1', 'Genre 2', 'Genre 3', 'Actor']\n",
    "df2=pd.melt(df,id_vars=[\"Actor\"],var_name=\"Genre\",value_name=\"Genre_Name\")\n",
    "df2=df2.drop([\"Genre\"],axis=1)\n",
    "df2.columns=[\"Actor\",\"Genre\"]\n",
    "Data_actor_genre=df2\n",
    "Data_actor_genre"
   ]
  },
  {
   "cell_type": "code",
   "execution_count": 13,
   "metadata": {},
   "outputs": [],
   "source": [
    "actor_genre_divide_final = df2\n",
    "actor_genre_divide_final =  actor_genre_divide_final.dropna()"
   ]
  },
  {
   "cell_type": "code",
   "execution_count": 14,
   "metadata": {},
   "outputs": [],
   "source": [
    "actor_genre_divide_final.to_csv('files/ActorsWithGenre.csv')"
   ]
  },
  {
   "cell_type": "code",
   "execution_count": 18,
   "metadata": {},
   "outputs": [],
   "source": [
    "t = actor_genre_divide_final.groupby(['Genre'])\n",
    "t.get_group('Romance')\n",
    "u = list(pd.unique(actor_genre_divide_final['Genre']))\n",
    "xyz = []\n",
    "for each in u:\n",
    "    xyz.append(Counter(list(t.get_group(each)['Actor'])).most_common(10))"
   ]
  },
  {
   "cell_type": "code",
   "execution_count": 19,
   "metadata": {},
   "outputs": [
    {
     "output_type": "execute_result",
     "data": {
      "text/plain": [
       "          Genre                                      Top 10 Actors\n",
       "0       Romance  [(Salman Khan, 21), (Shahid Kapoor, 16), (Aksh...\n",
       "1     Adventure  [(Sanjay Dutt, 6), (Abhishek Bachchan, 6), (Vi...\n",
       "2        Action  [(Sunil Shetty, 26), (Ajay Devgn, 26), (Sanjay...\n",
       "3         Drama  [(Amitabh Bachchan, 34), (Ajay Devgn, 31), (Ak...\n",
       "4       Musical  [(Salman Khan, 7), (Abhishek Bachchan, 7), (Bi...\n",
       "5        Comedy  [(Akshay Kumar, 31), (Paresh Rawal, 22), (Arsh...\n",
       "6         Crime  [(Akshay Kumar, 16), (Ajay Devgn, 12), (Bipash...\n",
       "7      Thriller  [(Emraan Hashmi, 13), (Sunil Shetty, 10), (San...\n",
       "8   Documentary  [(Neeru Bajwa, 1), (Sonali Gulati, 1), (Ruby B...\n",
       "9     Biography  [(Aishwarya Rai Bachchan, 2), (Shailendra Gaur...\n",
       "10      Mystery  [(Gulshan Grover, 5), (Akshay Kumar, 4), (Amit...\n",
       "11          War  [(Sanjay Dutt, 3), (Ajay Devgn, 3), (Amitabh B...\n",
       "12       Family  [(Amitabh Bachchan, 3), (Saif Ali Khan, 3), (A...\n",
       "13       Horror  [(Bipasha Basu, 4), (Vicky Ahuja, 3), (Emraan ...\n",
       "14      Fantasy  [(Boman Irani, 4), (Amitabh Bachchan, 3), (Aks...\n",
       "15        Music  [(Akshay Kumar, 1), (Ranbir Kapoor, 1), (Prabh...\n",
       "16    Animation  [(nan, 2), (Ajay Devgn, 2), (Manoj Bajpayee, 2...\n",
       "17        Sport  [(Boman Irani, 2), (Dalip Tahil, 2), (Nafisa A...\n",
       "18      History  [(Pavan Malhotra, 2), (John Abraham, 2), (Habi...\n",
       "19       Sci-Fi  [(Omkar Das Manikpuri, 2), (Bipasha Basu, 2), ...\n",
       "20        Short            [(Parimal Aloke, 1), (Paru Gambhir, 1)]\n",
       "22      Western  [(Prabhudheva, 1), (Ganesh Acharya, 1), (Kay K..."
      ],
      "text/html": "<div>\n<style scoped>\n    .dataframe tbody tr th:only-of-type {\n        vertical-align: middle;\n    }\n\n    .dataframe tbody tr th {\n        vertical-align: top;\n    }\n\n    .dataframe thead th {\n        text-align: right;\n    }\n</style>\n<table border=\"1\" class=\"dataframe\">\n  <thead>\n    <tr style=\"text-align: right;\">\n      <th></th>\n      <th>Genre</th>\n      <th>Top 10 Actors</th>\n    </tr>\n  </thead>\n  <tbody>\n    <tr>\n      <th>0</th>\n      <td>Romance</td>\n      <td>[(Salman Khan, 21), (Shahid Kapoor, 16), (Aksh...</td>\n    </tr>\n    <tr>\n      <th>1</th>\n      <td>Adventure</td>\n      <td>[(Sanjay Dutt, 6), (Abhishek Bachchan, 6), (Vi...</td>\n    </tr>\n    <tr>\n      <th>2</th>\n      <td>Action</td>\n      <td>[(Sunil Shetty, 26), (Ajay Devgn, 26), (Sanjay...</td>\n    </tr>\n    <tr>\n      <th>3</th>\n      <td>Drama</td>\n      <td>[(Amitabh Bachchan, 34), (Ajay Devgn, 31), (Ak...</td>\n    </tr>\n    <tr>\n      <th>4</th>\n      <td>Musical</td>\n      <td>[(Salman Khan, 7), (Abhishek Bachchan, 7), (Bi...</td>\n    </tr>\n    <tr>\n      <th>5</th>\n      <td>Comedy</td>\n      <td>[(Akshay Kumar, 31), (Paresh Rawal, 22), (Arsh...</td>\n    </tr>\n    <tr>\n      <th>6</th>\n      <td>Crime</td>\n      <td>[(Akshay Kumar, 16), (Ajay Devgn, 12), (Bipash...</td>\n    </tr>\n    <tr>\n      <th>7</th>\n      <td>Thriller</td>\n      <td>[(Emraan Hashmi, 13), (Sunil Shetty, 10), (San...</td>\n    </tr>\n    <tr>\n      <th>8</th>\n      <td>Documentary</td>\n      <td>[(Neeru Bajwa, 1), (Sonali Gulati, 1), (Ruby B...</td>\n    </tr>\n    <tr>\n      <th>9</th>\n      <td>Biography</td>\n      <td>[(Aishwarya Rai Bachchan, 2), (Shailendra Gaur...</td>\n    </tr>\n    <tr>\n      <th>10</th>\n      <td>Mystery</td>\n      <td>[(Gulshan Grover, 5), (Akshay Kumar, 4), (Amit...</td>\n    </tr>\n    <tr>\n      <th>11</th>\n      <td>War</td>\n      <td>[(Sanjay Dutt, 3), (Ajay Devgn, 3), (Amitabh B...</td>\n    </tr>\n    <tr>\n      <th>12</th>\n      <td>Family</td>\n      <td>[(Amitabh Bachchan, 3), (Saif Ali Khan, 3), (A...</td>\n    </tr>\n    <tr>\n      <th>13</th>\n      <td>Horror</td>\n      <td>[(Bipasha Basu, 4), (Vicky Ahuja, 3), (Emraan ...</td>\n    </tr>\n    <tr>\n      <th>14</th>\n      <td>Fantasy</td>\n      <td>[(Boman Irani, 4), (Amitabh Bachchan, 3), (Aks...</td>\n    </tr>\n    <tr>\n      <th>15</th>\n      <td>Music</td>\n      <td>[(Akshay Kumar, 1), (Ranbir Kapoor, 1), (Prabh...</td>\n    </tr>\n    <tr>\n      <th>16</th>\n      <td>Animation</td>\n      <td>[(nan, 2), (Ajay Devgn, 2), (Manoj Bajpayee, 2...</td>\n    </tr>\n    <tr>\n      <th>17</th>\n      <td>Sport</td>\n      <td>[(Boman Irani, 2), (Dalip Tahil, 2), (Nafisa A...</td>\n    </tr>\n    <tr>\n      <th>18</th>\n      <td>History</td>\n      <td>[(Pavan Malhotra, 2), (John Abraham, 2), (Habi...</td>\n    </tr>\n    <tr>\n      <th>19</th>\n      <td>Sci-Fi</td>\n      <td>[(Omkar Das Manikpuri, 2), (Bipasha Basu, 2), ...</td>\n    </tr>\n    <tr>\n      <th>20</th>\n      <td>Short</td>\n      <td>[(Parimal Aloke, 1), (Paru Gambhir, 1)]</td>\n    </tr>\n    <tr>\n      <th>22</th>\n      <td>Western</td>\n      <td>[(Prabhudheva, 1), (Ganesh Acharya, 1), (Kay K...</td>\n    </tr>\n  </tbody>\n</table>\n</div>"
     },
     "metadata": {},
     "execution_count": 19
    }
   ],
   "source": [
    "d1 = {'Genre' : u, 'Top 10 Actors':xyz}\n",
    "df100 = pd.DataFrame(data = d1)\n",
    "df100 = df100.drop([21])\n",
    "df100"
   ]
  },
  {
   "cell_type": "code",
   "execution_count": 20,
   "metadata": {},
   "outputs": [],
   "source": [
    "a = actor_genre_divide_final.groupby(['Actor'])\n",
    "b = list(pd.unique(actor_genre_divide_final['Actor']))\n"
   ]
  },
  {
   "cell_type": "code",
   "execution_count": 17,
   "metadata": {},
   "outputs": [],
   "source": [
    "from collections import Counter"
   ]
  },
  {
   "cell_type": "code",
   "execution_count": 172,
   "metadata": {},
   "outputs": [
    {
     "data": {
      "text/html": [
       "<div>\n",
       "<style scoped>\n",
       "    .dataframe tbody tr th:only-of-type {\n",
       "        vertical-align: middle;\n",
       "    }\n",
       "\n",
       "    .dataframe tbody tr th {\n",
       "        vertical-align: top;\n",
       "    }\n",
       "\n",
       "    .dataframe thead th {\n",
       "        text-align: right;\n",
       "    }\n",
       "</style>\n",
       "<table border=\"1\" class=\"dataframe\">\n",
       "  <thead>\n",
       "    <tr style=\"text-align: right;\">\n",
       "      <th></th>\n",
       "      <th>Actor</th>\n",
       "      <th>Genre</th>\n",
       "    </tr>\n",
       "  </thead>\n",
       "  <tbody>\n",
       "    <tr>\n",
       "      <th>3</th>\n",
       "      <td>Shah Rukh Khan</td>\n",
       "      <td>Drama</td>\n",
       "    </tr>\n",
       "    <tr>\n",
       "      <th>4</th>\n",
       "      <td>Shah Rukh Khan</td>\n",
       "      <td>Action</td>\n",
       "    </tr>\n",
       "    <tr>\n",
       "      <th>5</th>\n",
       "      <td>Shah Rukh Khan</td>\n",
       "      <td>Musical</td>\n",
       "    </tr>\n",
       "    <tr>\n",
       "      <th>140</th>\n",
       "      <td>Shah Rukh Khan</td>\n",
       "      <td>Drama</td>\n",
       "    </tr>\n",
       "    <tr>\n",
       "      <th>143</th>\n",
       "      <td>Shah Rukh Khan</td>\n",
       "      <td>Comedy</td>\n",
       "    </tr>\n",
       "    <tr>\n",
       "      <th>146</th>\n",
       "      <td>Shah Rukh Khan</td>\n",
       "      <td>Action</td>\n",
       "    </tr>\n",
       "    <tr>\n",
       "      <th>188</th>\n",
       "      <td>Shah Rukh Khan</td>\n",
       "      <td>Drama</td>\n",
       "    </tr>\n",
       "    <tr>\n",
       "      <th>222</th>\n",
       "      <td>Shah Rukh Khan</td>\n",
       "      <td>Drama</td>\n",
       "    </tr>\n",
       "    <tr>\n",
       "      <th>289</th>\n",
       "      <td>Shah Rukh Khan</td>\n",
       "      <td>Drama</td>\n",
       "    </tr>\n",
       "    <tr>\n",
       "      <th>355</th>\n",
       "      <td>Shah Rukh Khan</td>\n",
       "      <td>Drama</td>\n",
       "    </tr>\n",
       "    <tr>\n",
       "      <th>362</th>\n",
       "      <td>Shah Rukh Khan</td>\n",
       "      <td>Fantasy</td>\n",
       "    </tr>\n",
       "    <tr>\n",
       "      <th>390</th>\n",
       "      <td>Shah Rukh Khan</td>\n",
       "      <td>Action</td>\n",
       "    </tr>\n",
       "    <tr>\n",
       "      <th>554</th>\n",
       "      <td>Shah Rukh Khan</td>\n",
       "      <td>Action</td>\n",
       "    </tr>\n",
       "    <tr>\n",
       "      <th>617</th>\n",
       "      <td>Shah Rukh Khan</td>\n",
       "      <td>Comedy</td>\n",
       "    </tr>\n",
       "    <tr>\n",
       "      <th>627</th>\n",
       "      <td>Shah Rukh Khan</td>\n",
       "      <td>Drama</td>\n",
       "    </tr>\n",
       "    <tr>\n",
       "      <th>692</th>\n",
       "      <td>Shah Rukh Khan</td>\n",
       "      <td>Action</td>\n",
       "    </tr>\n",
       "    <tr>\n",
       "      <th>1020</th>\n",
       "      <td>Shah Rukh Khan</td>\n",
       "      <td>Drama</td>\n",
       "    </tr>\n",
       "    <tr>\n",
       "      <th>1136</th>\n",
       "      <td>Shah Rukh Khan</td>\n",
       "      <td>Action</td>\n",
       "    </tr>\n",
       "    <tr>\n",
       "      <th>1943</th>\n",
       "      <td>Shah Rukh Khan</td>\n",
       "      <td>Comedy</td>\n",
       "    </tr>\n",
       "    <tr>\n",
       "      <th>2072</th>\n",
       "      <td>Shah Rukh Khan</td>\n",
       "      <td>Action</td>\n",
       "    </tr>\n",
       "    <tr>\n",
       "      <th>2288</th>\n",
       "      <td>Shah Rukh Khan</td>\n",
       "      <td>Action</td>\n",
       "    </tr>\n",
       "    <tr>\n",
       "      <th>2575</th>\n",
       "      <td>Shah Rukh Khan</td>\n",
       "      <td>Drama</td>\n",
       "    </tr>\n",
       "    <tr>\n",
       "      <th>4467</th>\n",
       "      <td>Shah Rukh Khan</td>\n",
       "      <td>Comedy</td>\n",
       "    </tr>\n",
       "    <tr>\n",
       "      <th>5139</th>\n",
       "      <td>Shah Rukh Khan</td>\n",
       "      <td>Romance</td>\n",
       "    </tr>\n",
       "    <tr>\n",
       "      <th>5140</th>\n",
       "      <td>Shah Rukh Khan</td>\n",
       "      <td>Comedy</td>\n",
       "    </tr>\n",
       "    <tr>\n",
       "      <th>5141</th>\n",
       "      <td>Shah Rukh Khan</td>\n",
       "      <td>Romance</td>\n",
       "    </tr>\n",
       "    <tr>\n",
       "      <th>5276</th>\n",
       "      <td>Shah Rukh Khan</td>\n",
       "      <td>Romance</td>\n",
       "    </tr>\n",
       "    <tr>\n",
       "      <th>5279</th>\n",
       "      <td>Shah Rukh Khan</td>\n",
       "      <td>Drama</td>\n",
       "    </tr>\n",
       "    <tr>\n",
       "      <th>5282</th>\n",
       "      <td>Shah Rukh Khan</td>\n",
       "      <td>Comedy</td>\n",
       "    </tr>\n",
       "    <tr>\n",
       "      <th>5425</th>\n",
       "      <td>Shah Rukh Khan</td>\n",
       "      <td>Musical</td>\n",
       "    </tr>\n",
       "    <tr>\n",
       "      <th>5498</th>\n",
       "      <td>Shah Rukh Khan</td>\n",
       "      <td>Romance</td>\n",
       "    </tr>\n",
       "    <tr>\n",
       "      <th>5526</th>\n",
       "      <td>Shah Rukh Khan</td>\n",
       "      <td>Crime</td>\n",
       "    </tr>\n",
       "    <tr>\n",
       "      <th>5690</th>\n",
       "      <td>Shah Rukh Khan</td>\n",
       "      <td>Comedy</td>\n",
       "    </tr>\n",
       "    <tr>\n",
       "      <th>5753</th>\n",
       "      <td>Shah Rukh Khan</td>\n",
       "      <td>Drama</td>\n",
       "    </tr>\n",
       "    <tr>\n",
       "      <th>5763</th>\n",
       "      <td>Shah Rukh Khan</td>\n",
       "      <td>Romance</td>\n",
       "    </tr>\n",
       "    <tr>\n",
       "      <th>5828</th>\n",
       "      <td>Shah Rukh Khan</td>\n",
       "      <td>Crime</td>\n",
       "    </tr>\n",
       "    <tr>\n",
       "      <th>6156</th>\n",
       "      <td>Shah Rukh Khan</td>\n",
       "      <td>Romance</td>\n",
       "    </tr>\n",
       "    <tr>\n",
       "      <th>6272</th>\n",
       "      <td>Shah Rukh Khan</td>\n",
       "      <td>Comedy</td>\n",
       "    </tr>\n",
       "    <tr>\n",
       "      <th>7079</th>\n",
       "      <td>Shah Rukh Khan</td>\n",
       "      <td>Drama</td>\n",
       "    </tr>\n",
       "    <tr>\n",
       "      <th>7208</th>\n",
       "      <td>Shah Rukh Khan</td>\n",
       "      <td>Adventure</td>\n",
       "    </tr>\n",
       "    <tr>\n",
       "      <th>7424</th>\n",
       "      <td>Shah Rukh Khan</td>\n",
       "      <td>Comedy</td>\n",
       "    </tr>\n",
       "    <tr>\n",
       "      <th>7711</th>\n",
       "      <td>Shah Rukh Khan</td>\n",
       "      <td>Musical</td>\n",
       "    </tr>\n",
       "    <tr>\n",
       "      <th>9603</th>\n",
       "      <td>Shah Rukh Khan</td>\n",
       "      <td>Drama</td>\n",
       "    </tr>\n",
       "    <tr>\n",
       "      <th>10276</th>\n",
       "      <td>Shah Rukh Khan</td>\n",
       "      <td>Drama</td>\n",
       "    </tr>\n",
       "    <tr>\n",
       "      <th>10415</th>\n",
       "      <td>Shah Rukh Khan</td>\n",
       "      <td>Romance</td>\n",
       "    </tr>\n",
       "    <tr>\n",
       "      <th>10418</th>\n",
       "      <td>Shah Rukh Khan</td>\n",
       "      <td>Romance</td>\n",
       "    </tr>\n",
       "    <tr>\n",
       "      <th>10561</th>\n",
       "      <td>Shah Rukh Khan</td>\n",
       "      <td>Romance</td>\n",
       "    </tr>\n",
       "    <tr>\n",
       "      <th>10662</th>\n",
       "      <td>Shah Rukh Khan</td>\n",
       "      <td>Thriller</td>\n",
       "    </tr>\n",
       "    <tr>\n",
       "      <th>10826</th>\n",
       "      <td>Shah Rukh Khan</td>\n",
       "      <td>Drama</td>\n",
       "    </tr>\n",
       "    <tr>\n",
       "      <th>10889</th>\n",
       "      <td>Shah Rukh Khan</td>\n",
       "      <td>Musical</td>\n",
       "    </tr>\n",
       "    <tr>\n",
       "      <th>10899</th>\n",
       "      <td>Shah Rukh Khan</td>\n",
       "      <td>Thriller</td>\n",
       "    </tr>\n",
       "    <tr>\n",
       "      <th>10964</th>\n",
       "      <td>Shah Rukh Khan</td>\n",
       "      <td>Drama</td>\n",
       "    </tr>\n",
       "    <tr>\n",
       "      <th>11408</th>\n",
       "      <td>Shah Rukh Khan</td>\n",
       "      <td>Crime</td>\n",
       "    </tr>\n",
       "    <tr>\n",
       "      <th>12344</th>\n",
       "      <td>Shah Rukh Khan</td>\n",
       "      <td>Sci-Fi</td>\n",
       "    </tr>\n",
       "    <tr>\n",
       "      <th>12560</th>\n",
       "      <td>Shah Rukh Khan</td>\n",
       "      <td>Romance</td>\n",
       "    </tr>\n",
       "    <tr>\n",
       "      <th>12847</th>\n",
       "      <td>Shah Rukh Khan</td>\n",
       "      <td>Romance</td>\n",
       "    </tr>\n",
       "  </tbody>\n",
       "</table>\n",
       "</div>"
      ],
      "text/plain": [
       "                Actor      Genre\n",
       "3      Shah Rukh Khan      Drama\n",
       "4      Shah Rukh Khan     Action\n",
       "5      Shah Rukh Khan    Musical\n",
       "140    Shah Rukh Khan      Drama\n",
       "143    Shah Rukh Khan     Comedy\n",
       "146    Shah Rukh Khan     Action\n",
       "188    Shah Rukh Khan      Drama\n",
       "222    Shah Rukh Khan      Drama\n",
       "289    Shah Rukh Khan      Drama\n",
       "355    Shah Rukh Khan      Drama\n",
       "362    Shah Rukh Khan    Fantasy\n",
       "390    Shah Rukh Khan     Action\n",
       "554    Shah Rukh Khan     Action\n",
       "617    Shah Rukh Khan     Comedy\n",
       "627    Shah Rukh Khan      Drama\n",
       "692    Shah Rukh Khan     Action\n",
       "1020   Shah Rukh Khan      Drama\n",
       "1136   Shah Rukh Khan     Action\n",
       "1943   Shah Rukh Khan     Comedy\n",
       "2072   Shah Rukh Khan     Action\n",
       "2288   Shah Rukh Khan     Action\n",
       "2575   Shah Rukh Khan      Drama\n",
       "4467   Shah Rukh Khan     Comedy\n",
       "5139   Shah Rukh Khan    Romance\n",
       "5140   Shah Rukh Khan     Comedy\n",
       "5141   Shah Rukh Khan    Romance\n",
       "5276   Shah Rukh Khan    Romance\n",
       "5279   Shah Rukh Khan      Drama\n",
       "5282   Shah Rukh Khan     Comedy\n",
       "5425   Shah Rukh Khan    Musical\n",
       "5498   Shah Rukh Khan    Romance\n",
       "5526   Shah Rukh Khan      Crime\n",
       "5690   Shah Rukh Khan     Comedy\n",
       "5753   Shah Rukh Khan      Drama\n",
       "5763   Shah Rukh Khan    Romance\n",
       "5828   Shah Rukh Khan      Crime\n",
       "6156   Shah Rukh Khan    Romance\n",
       "6272   Shah Rukh Khan     Comedy\n",
       "7079   Shah Rukh Khan      Drama\n",
       "7208   Shah Rukh Khan  Adventure\n",
       "7424   Shah Rukh Khan     Comedy\n",
       "7711   Shah Rukh Khan    Musical\n",
       "9603   Shah Rukh Khan      Drama\n",
       "10276  Shah Rukh Khan      Drama\n",
       "10415  Shah Rukh Khan    Romance\n",
       "10418  Shah Rukh Khan    Romance\n",
       "10561  Shah Rukh Khan    Romance\n",
       "10662  Shah Rukh Khan   Thriller\n",
       "10826  Shah Rukh Khan      Drama\n",
       "10889  Shah Rukh Khan    Musical\n",
       "10899  Shah Rukh Khan   Thriller\n",
       "10964  Shah Rukh Khan      Drama\n",
       "11408  Shah Rukh Khan      Crime\n",
       "12344  Shah Rukh Khan     Sci-Fi\n",
       "12560  Shah Rukh Khan    Romance\n",
       "12847  Shah Rukh Khan    Romance"
      ]
     },
     "execution_count": 172,
     "metadata": {},
     "output_type": "execute_result"
    }
   ],
   "source": [
    " = a.get_group('Shah Rukh Khan')\n",
    "v = list(b['Genre'])\n",
    "c = Counter(v).most_common(3)\n",
    "most_genre = [each[0] for each in c]\n",
    "c"
   ]
  },
  {
   "cell_type": "code",
   "execution_count": 21,
   "metadata": {},
   "outputs": [],
   "source": [
    "aba = []\n",
    "for each in b:\n",
    "    aba.append(Counter(list(a.get_group(each)['Genre'])).most_common(3))"
   ]
  },
  {
   "cell_type": "code",
   "execution_count": 22,
   "metadata": {},
   "outputs": [
    {
     "output_type": "execute_result",
     "data": {
      "text/plain": [
       "            Actor                                 Top Genres\n",
       "0         Govinda   [(Comedy, 13), (Romance, 6), (Drama, 5)]\n",
       "1      Aamir Khan    [(Drama, 11), (Comedy, 3), (Action, 2)]\n",
       "2    Akshay Kumar  [(Comedy, 31), (Drama, 24), (Action, 19)]\n",
       "3  Shah Rukh Khan  [(Drama, 16), (Romance, 11), (Comedy, 9)]\n",
       "4  Hrithik Roshan   [(Drama, 11), (Action, 9), (Romance, 8)]"
      ],
      "text/html": "<div>\n<style scoped>\n    .dataframe tbody tr th:only-of-type {\n        vertical-align: middle;\n    }\n\n    .dataframe tbody tr th {\n        vertical-align: top;\n    }\n\n    .dataframe thead th {\n        text-align: right;\n    }\n</style>\n<table border=\"1\" class=\"dataframe\">\n  <thead>\n    <tr style=\"text-align: right;\">\n      <th></th>\n      <th>Actor</th>\n      <th>Top Genres</th>\n    </tr>\n  </thead>\n  <tbody>\n    <tr>\n      <th>0</th>\n      <td>Govinda</td>\n      <td>[(Comedy, 13), (Romance, 6), (Drama, 5)]</td>\n    </tr>\n    <tr>\n      <th>1</th>\n      <td>Aamir Khan</td>\n      <td>[(Drama, 11), (Comedy, 3), (Action, 2)]</td>\n    </tr>\n    <tr>\n      <th>2</th>\n      <td>Akshay Kumar</td>\n      <td>[(Comedy, 31), (Drama, 24), (Action, 19)]</td>\n    </tr>\n    <tr>\n      <th>3</th>\n      <td>Shah Rukh Khan</td>\n      <td>[(Drama, 16), (Romance, 11), (Comedy, 9)]</td>\n    </tr>\n    <tr>\n      <th>4</th>\n      <td>Hrithik Roshan</td>\n      <td>[(Drama, 11), (Action, 9), (Romance, 8)]</td>\n    </tr>\n  </tbody>\n</table>\n</div>"
     },
     "metadata": {},
     "execution_count": 22
    }
   ],
   "source": [
    "data = {'Actor':b,'Top Genres':aba}\n",
    "fin = pd.DataFrame(data=data)\n",
    "fin.head()\n"
   ]
  },
  {
   "cell_type": "code",
   "execution_count": 23,
   "metadata": {},
   "outputs": [],
   "source": [
    "fin.to_csv('files/TopGenres.csv')"
   ]
  },
  {
   "cell_type": "code",
   "execution_count": 24,
   "metadata": {},
   "outputs": [],
   "source": [
    "from mlxtend.preprocessing import TransactionEncoder  #TransactionEncoder is used for conversion into numerical values\n",
    "from mlxtend.frequent_patterns import apriori"
   ]
  },
  {
   "cell_type": "code",
   "execution_count": 25,
   "metadata": {},
   "outputs": [],
   "source": [
    "te = TransactionEncoder()\n",
    "te = te.fit(x)\n",
    "te_ary = te.transform(x)\n"
   ]
  },
  {
   "cell_type": "code",
   "execution_count": 26,
   "metadata": {},
   "outputs": [],
   "source": [
    "df = pd.DataFrame(te_ary,columns=te.columns_)"
   ]
  },
  {
   "cell_type": "code",
   "execution_count": 63,
   "metadata": {},
   "outputs": [
    {
     "output_type": "error",
     "ename": "MemoryError",
     "evalue": "Unable to allocate 15.4 GiB for an array with shape (4293478, 3, 1284) and data type bool",
     "traceback": [
      "\u001b[0;31m---------------------------------------------------------------------------\u001b[0m",
      "\u001b[0;31mMemoryError\u001b[0m                               Traceback (most recent call last)",
      "\u001b[0;32m<ipython-input-63-c2af424153d9>\u001b[0m in \u001b[0;36m<module>\u001b[0;34m\u001b[0m\n\u001b[0;32m----> 1\u001b[0;31m \u001b[0mfrequent_itemsets\u001b[0m \u001b[0;34m=\u001b[0m \u001b[0mapriori\u001b[0m\u001b[0;34m(\u001b[0m\u001b[0mdf\u001b[0m\u001b[0;34m,\u001b[0m \u001b[0mmin_support\u001b[0m \u001b[0;34m=\u001b[0m\u001b[0;36m0.0006\u001b[0m\u001b[0;34m,\u001b[0m\u001b[0muse_colnames\u001b[0m\u001b[0;34m=\u001b[0m\u001b[0;32mTrue\u001b[0m\u001b[0;34m)\u001b[0m\u001b[0;34m\u001b[0m\u001b[0;34m\u001b[0m\u001b[0m\n\u001b[0m",
      "\u001b[0;32m~/projects/Star-Cast-Recommendataion/venv/lib/python3.8/site-packages/mlxtend/frequent_patterns/apriori.py\u001b[0m in \u001b[0;36mapriori\u001b[0;34m(df, min_support, use_colnames, max_len, verbose, low_memory)\u001b[0m\n\u001b[1;32m    300\u001b[0m                     \u001b[0m_bools\u001b[0m \u001b[0;34m=\u001b[0m \u001b[0m_bools\u001b[0m \u001b[0;34m&\u001b[0m \u001b[0;34m(\u001b[0m\u001b[0mX\u001b[0m\u001b[0;34m[\u001b[0m\u001b[0;34m:\u001b[0m\u001b[0;34m,\u001b[0m \u001b[0mcombin\u001b[0m\u001b[0;34m[\u001b[0m\u001b[0;34m:\u001b[0m\u001b[0;34m,\u001b[0m \u001b[0mn\u001b[0m\u001b[0;34m]\u001b[0m\u001b[0;34m]\u001b[0m \u001b[0;34m==\u001b[0m \u001b[0mall_ones\u001b[0m\u001b[0;34m)\u001b[0m\u001b[0;34m\u001b[0m\u001b[0;34m\u001b[0m\u001b[0m\n\u001b[1;32m    301\u001b[0m             \u001b[0;32melse\u001b[0m\u001b[0;34m:\u001b[0m\u001b[0;34m\u001b[0m\u001b[0;34m\u001b[0m\u001b[0m\n\u001b[0;32m--> 302\u001b[0;31m                 \u001b[0m_bools\u001b[0m \u001b[0;34m=\u001b[0m \u001b[0mnp\u001b[0m\u001b[0;34m.\u001b[0m\u001b[0mall\u001b[0m\u001b[0;34m(\u001b[0m\u001b[0mX\u001b[0m\u001b[0;34m[\u001b[0m\u001b[0;34m:\u001b[0m\u001b[0;34m,\u001b[0m \u001b[0mcombin\u001b[0m\u001b[0;34m]\u001b[0m\u001b[0;34m,\u001b[0m \u001b[0maxis\u001b[0m\u001b[0;34m=\u001b[0m\u001b[0;36m2\u001b[0m\u001b[0;34m)\u001b[0m\u001b[0;34m\u001b[0m\u001b[0;34m\u001b[0m\u001b[0m\n\u001b[0m\u001b[1;32m    303\u001b[0m \u001b[0;34m\u001b[0m\u001b[0m\n\u001b[1;32m    304\u001b[0m             \u001b[0msupport\u001b[0m \u001b[0;34m=\u001b[0m \u001b[0m_support\u001b[0m\u001b[0;34m(\u001b[0m\u001b[0mnp\u001b[0m\u001b[0;34m.\u001b[0m\u001b[0marray\u001b[0m\u001b[0;34m(\u001b[0m\u001b[0m_bools\u001b[0m\u001b[0;34m)\u001b[0m\u001b[0;34m,\u001b[0m \u001b[0mrows_count\u001b[0m\u001b[0;34m,\u001b[0m \u001b[0mis_sparse\u001b[0m\u001b[0;34m)\u001b[0m\u001b[0;34m\u001b[0m\u001b[0;34m\u001b[0m\u001b[0m\n",
      "\u001b[0;31mMemoryError\u001b[0m: Unable to allocate 15.4 GiB for an array with shape (4293478, 3, 1284) and data type bool"
     ]
    }
   ],
   "source": [
    "frequent_itemsets = apriori(df, min_support =0.00065,use_colnames=True)"
   ]
  },
  {
   "cell_type": "code",
   "execution_count": 53,
   "metadata": {},
   "outputs": [],
   "source": [
    "from mlxtend.frequent_patterns import association_rules\n",
    "rules = association_rules(frequent_itemsets,metric='confidence',min_threshold=0.4)"
   ]
  },
  {
   "cell_type": "code",
   "execution_count": 54,
   "metadata": {},
   "outputs": [],
   "source": [
    "input_genre = 'Family'\n",
    "abascus = list(df100[df100['Genre'] == input_genre]['Top 10 Actors'])\n",
    "top_actor = (abascus[0][0][0])\n",
    "#rules[rules['antecedants'].apply(lambda x:set([top_actor]).issubset(x))]"
   ]
  },
  {
   "cell_type": "code",
   "execution_count": 55,
   "metadata": {},
   "outputs": [],
   "source": [
    "another = big_genre_divide.drop(columns = ['imdbId', 'title', 'releaseYear', 'releaseDate','writers','directors','sequel','hitFlop'])\n",
    "another = another.drop(columns = ['genre'])\n"
   ]
  },
  {
   "cell_type": "code",
   "execution_count": 56,
   "metadata": {},
   "outputs": [
    {
     "output_type": "execute_result",
     "data": {
      "text/plain": [
       "                                              actors    Genre 1  Genre 2  \\\n",
       "0  Govinda | Aishwarya Rai Bachchan | Jackie Shro...    Romance     None   \n",
       "1  Aamir Khan | Gracy Singh | Rachel Shelley | Pa...  Adventure    Drama   \n",
       "2  Akshay Kumar | Sridevi | Gulshan Grover | Laxm...     Action   Comedy   \n",
       "3  Shah Rukh Khan | Madhuri Dixit | Salman Khan |...      Drama  Romance   \n",
       "4  Shah Rukh Khan | Juhi Chawla | Jackie Shroff |...     Action   Comedy   \n",
       "\n",
       "   Genre 3  \n",
       "0     None  \n",
       "1  Musical  \n",
       "2     None  \n",
       "3     None  \n",
       "4    Drama  "
      ],
      "text/html": "<div>\n<style scoped>\n    .dataframe tbody tr th:only-of-type {\n        vertical-align: middle;\n    }\n\n    .dataframe tbody tr th {\n        vertical-align: top;\n    }\n\n    .dataframe thead th {\n        text-align: right;\n    }\n</style>\n<table border=\"1\" class=\"dataframe\">\n  <thead>\n    <tr style=\"text-align: right;\">\n      <th></th>\n      <th>actors</th>\n      <th>Genre 1</th>\n      <th>Genre 2</th>\n      <th>Genre 3</th>\n    </tr>\n  </thead>\n  <tbody>\n    <tr>\n      <th>0</th>\n      <td>Govinda | Aishwarya Rai Bachchan | Jackie Shro...</td>\n      <td>Romance</td>\n      <td>None</td>\n      <td>None</td>\n    </tr>\n    <tr>\n      <th>1</th>\n      <td>Aamir Khan | Gracy Singh | Rachel Shelley | Pa...</td>\n      <td>Adventure</td>\n      <td>Drama</td>\n      <td>Musical</td>\n    </tr>\n    <tr>\n      <th>2</th>\n      <td>Akshay Kumar | Sridevi | Gulshan Grover | Laxm...</td>\n      <td>Action</td>\n      <td>Comedy</td>\n      <td>None</td>\n    </tr>\n    <tr>\n      <th>3</th>\n      <td>Shah Rukh Khan | Madhuri Dixit | Salman Khan |...</td>\n      <td>Drama</td>\n      <td>Romance</td>\n      <td>None</td>\n    </tr>\n    <tr>\n      <th>4</th>\n      <td>Shah Rukh Khan | Juhi Chawla | Jackie Shroff |...</td>\n      <td>Action</td>\n      <td>Comedy</td>\n      <td>Drama</td>\n    </tr>\n  </tbody>\n</table>\n</div>"
     },
     "metadata": {},
     "execution_count": 56
    }
   ],
   "source": [
    "another.head()"
   ]
  },
  {
   "cell_type": "code",
   "execution_count": 45,
   "metadata": {},
   "outputs": [],
   "source": [
    "another.to_csv('files/castgenre.csv')"
   ]
  },
  {
   "cell_type": "code",
   "execution_count": 57,
   "metadata": {},
   "outputs": [],
   "source": [
    "genre_input = 'romance'\n",
    "a1 = another[another['Genre 1'] == genre_input.capitalize()]\n",
    "a2 = another[another['Genre 2'] == genre_input.capitalize()]\n",
    "a3 = another[another['Genre 3'] == genre_input.capitalize()]\n",
    "c = a1.append(a2, ignore_index=True).append(a3, ignore_index=True)"
   ]
  },
  {
   "cell_type": "code",
   "execution_count": 58,
   "metadata": {},
   "outputs": [],
   "source": [
    "genre_actors = c['actors']\n",
    "actor = movie_data['actors']\n",
    "actor.dropna()\n",
    "actor = actor.reset_index(drop=True)\n",
    "x = []\n",
    "for i in range(len(actor)):\n",
    "    a = str(actor[i]).split('|')\n",
    "    a = [z.strip() for z in a]\n",
    "    x.append(a)"
   ]
  },
  {
   "cell_type": "code",
   "execution_count": 59,
   "metadata": {},
   "outputs": [],
   "source": [
    "te = TransactionEncoder()\n",
    "te = te.fit(x)\n",
    "te_ary = te.transform(x)\n"
   ]
  },
  {
   "cell_type": "code",
   "execution_count": 60,
   "metadata": {},
   "outputs": [],
   "source": [
    "df = pd.DataFrame(te_ary,columns=te.columns_)"
   ]
  },
  {
   "cell_type": "code",
   "execution_count": 61,
   "metadata": {},
   "outputs": [],
   "source": [
    "frequent_itemsets = apriori(df, min_support =0.0015,use_colnames=True)\n",
    "#frequent_itemsets"
   ]
  },
  {
   "cell_type": "code",
   "execution_count": 62,
   "metadata": {},
   "outputs": [
    {
     "output_type": "stream",
     "name": "stdout",
     "text": [
      "CPU times: user 13.6 ms, sys: 490 µs, total: 14 ms\nWall time: 13 ms\n"
     ]
    },
    {
     "output_type": "execute_result",
     "data": {
      "text/plain": [
       "                         antecedents                     consequents  \\\n",
       "0                       (Aamir Khan)                (Kareena Kapoor)   \n",
       "1                   (Kareena Kapoor)                    (Aamir Khan)   \n",
       "2                     (Rani Mukerji)                    (Aamir Khan)   \n",
       "3                       (Aamir Khan)                  (Rani Mukerji)   \n",
       "4                       (Aamir Khan)                 (Sharman Joshi)   \n",
       "...                              ...                             ...   \n",
       "1009   (Salman Khan, Sonakshi Sinha)                  (Vinod Khanna)   \n",
       "1010  (Vinod Khanna, Sonakshi Sinha)                   (Salman Khan)   \n",
       "1011                   (Salman Khan)  (Vinod Khanna, Sonakshi Sinha)   \n",
       "1012                  (Vinod Khanna)   (Salman Khan, Sonakshi Sinha)   \n",
       "1013                (Sonakshi Sinha)     (Salman Khan, Vinod Khanna)   \n",
       "\n",
       "      antecedent support  consequent support   support  confidence  \\\n",
       "0               0.009346            0.028816  0.001558    0.166667   \n",
       "1               0.028816            0.009346  0.001558    0.054054   \n",
       "2               0.021807            0.009346  0.001558    0.071429   \n",
       "3               0.009346            0.021807  0.001558    0.166667   \n",
       "4               0.009346            0.011682  0.001558    0.166667   \n",
       "...                  ...                 ...       ...         ...   \n",
       "1009            0.001558            0.007009  0.001558    1.000000   \n",
       "1010            0.001558            0.028037  0.001558    1.000000   \n",
       "1011            0.028037            0.001558  0.001558    0.055556   \n",
       "1012            0.007009            0.001558  0.001558    0.222222   \n",
       "1013            0.007009            0.002336  0.001558    0.222222   \n",
       "\n",
       "            lift  leverage  conviction  \n",
       "0       5.783784  0.001288    1.165421  \n",
       "1       5.783784  0.001288    1.047263  \n",
       "2       7.642857  0.001354    1.066858  \n",
       "3       7.642857  0.001354    1.173832  \n",
       "4      14.266667  0.001448    1.185981  \n",
       "...          ...       ...         ...  \n",
       "1009  142.666667  0.001547         inf  \n",
       "1010   35.666667  0.001514         inf  \n",
       "1011   35.666667  0.001514    1.057174  \n",
       "1012  142.666667  0.001547    1.283712  \n",
       "1013   95.111111  0.001541    1.282710  \n",
       "\n",
       "[1014 rows x 9 columns]"
      ],
      "text/html": "<div>\n<style scoped>\n    .dataframe tbody tr th:only-of-type {\n        vertical-align: middle;\n    }\n\n    .dataframe tbody tr th {\n        vertical-align: top;\n    }\n\n    .dataframe thead th {\n        text-align: right;\n    }\n</style>\n<table border=\"1\" class=\"dataframe\">\n  <thead>\n    <tr style=\"text-align: right;\">\n      <th></th>\n      <th>antecedents</th>\n      <th>consequents</th>\n      <th>antecedent support</th>\n      <th>consequent support</th>\n      <th>support</th>\n      <th>confidence</th>\n      <th>lift</th>\n      <th>leverage</th>\n      <th>conviction</th>\n    </tr>\n  </thead>\n  <tbody>\n    <tr>\n      <th>0</th>\n      <td>(Aamir Khan)</td>\n      <td>(Kareena Kapoor)</td>\n      <td>0.009346</td>\n      <td>0.028816</td>\n      <td>0.001558</td>\n      <td>0.166667</td>\n      <td>5.783784</td>\n      <td>0.001288</td>\n      <td>1.165421</td>\n    </tr>\n    <tr>\n      <th>1</th>\n      <td>(Kareena Kapoor)</td>\n      <td>(Aamir Khan)</td>\n      <td>0.028816</td>\n      <td>0.009346</td>\n      <td>0.001558</td>\n      <td>0.054054</td>\n      <td>5.783784</td>\n      <td>0.001288</td>\n      <td>1.047263</td>\n    </tr>\n    <tr>\n      <th>2</th>\n      <td>(Rani Mukerji)</td>\n      <td>(Aamir Khan)</td>\n      <td>0.021807</td>\n      <td>0.009346</td>\n      <td>0.001558</td>\n      <td>0.071429</td>\n      <td>7.642857</td>\n      <td>0.001354</td>\n      <td>1.066858</td>\n    </tr>\n    <tr>\n      <th>3</th>\n      <td>(Aamir Khan)</td>\n      <td>(Rani Mukerji)</td>\n      <td>0.009346</td>\n      <td>0.021807</td>\n      <td>0.001558</td>\n      <td>0.166667</td>\n      <td>7.642857</td>\n      <td>0.001354</td>\n      <td>1.173832</td>\n    </tr>\n    <tr>\n      <th>4</th>\n      <td>(Aamir Khan)</td>\n      <td>(Sharman Joshi)</td>\n      <td>0.009346</td>\n      <td>0.011682</td>\n      <td>0.001558</td>\n      <td>0.166667</td>\n      <td>14.266667</td>\n      <td>0.001448</td>\n      <td>1.185981</td>\n    </tr>\n    <tr>\n      <th>...</th>\n      <td>...</td>\n      <td>...</td>\n      <td>...</td>\n      <td>...</td>\n      <td>...</td>\n      <td>...</td>\n      <td>...</td>\n      <td>...</td>\n      <td>...</td>\n    </tr>\n    <tr>\n      <th>1009</th>\n      <td>(Salman Khan, Sonakshi Sinha)</td>\n      <td>(Vinod Khanna)</td>\n      <td>0.001558</td>\n      <td>0.007009</td>\n      <td>0.001558</td>\n      <td>1.000000</td>\n      <td>142.666667</td>\n      <td>0.001547</td>\n      <td>inf</td>\n    </tr>\n    <tr>\n      <th>1010</th>\n      <td>(Vinod Khanna, Sonakshi Sinha)</td>\n      <td>(Salman Khan)</td>\n      <td>0.001558</td>\n      <td>0.028037</td>\n      <td>0.001558</td>\n      <td>1.000000</td>\n      <td>35.666667</td>\n      <td>0.001514</td>\n      <td>inf</td>\n    </tr>\n    <tr>\n      <th>1011</th>\n      <td>(Salman Khan)</td>\n      <td>(Vinod Khanna, Sonakshi Sinha)</td>\n      <td>0.028037</td>\n      <td>0.001558</td>\n      <td>0.001558</td>\n      <td>0.055556</td>\n      <td>35.666667</td>\n      <td>0.001514</td>\n      <td>1.057174</td>\n    </tr>\n    <tr>\n      <th>1012</th>\n      <td>(Vinod Khanna)</td>\n      <td>(Salman Khan, Sonakshi Sinha)</td>\n      <td>0.007009</td>\n      <td>0.001558</td>\n      <td>0.001558</td>\n      <td>0.222222</td>\n      <td>142.666667</td>\n      <td>0.001547</td>\n      <td>1.283712</td>\n    </tr>\n    <tr>\n      <th>1013</th>\n      <td>(Sonakshi Sinha)</td>\n      <td>(Salman Khan, Vinod Khanna)</td>\n      <td>0.007009</td>\n      <td>0.002336</td>\n      <td>0.001558</td>\n      <td>0.222222</td>\n      <td>95.111111</td>\n      <td>0.001541</td>\n      <td>1.282710</td>\n    </tr>\n  </tbody>\n</table>\n<p>1014 rows × 9 columns</p>\n</div>"
     },
     "metadata": {},
     "execution_count": 62
    }
   ],
   "source": [
    "%time rules = association_rules(frequent_itemsets,metric='confidence',min_threshold=0.01)\n",
    "rules"
   ]
  },
  {
   "cell_type": "code",
   "execution_count": null,
   "metadata": {},
   "outputs": [],
   "source": []
  }
 ],
 "metadata": {
  "kernelspec": {
   "display_name": "Python 3",
   "language": "python",
   "name": "python3"
  },
  "language_info": {
   "codemirror_mode": {
    "name": "ipython",
    "version": 3
   },
   "file_extension": ".py",
   "mimetype": "text/x-python",
   "name": "python",
   "nbconvert_exporter": "python",
   "pygments_lexer": "ipython3",
   "version": "3.8.5-final"
  }
 },
 "nbformat": 4,
 "nbformat_minor": 2
}