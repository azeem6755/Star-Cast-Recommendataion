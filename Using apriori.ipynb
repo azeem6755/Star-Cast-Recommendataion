{
 "cells": [
  {
   "cell_type": "code",
   "execution_count": 1,
   "metadata": {},
   "outputs": [],
   "source": [
    "import pandas as pd\n",
    "import numpy as np\n",
    "from collections import Counter\n",
    "from mlxtend.preprocessing import TransactionEncoder\n",
    "from mlxtend.frequent_patterns import apriori\n",
    "from mlxtend.frequent_patterns import association_rules"
   ]
  },
  {
   "cell_type": "code",
   "execution_count": 2,
   "metadata": {},
   "outputs": [],
   "source": [
    "df = pd.read_csv('files/castgenre.csv')"
   ]
  },
  {
   "cell_type": "code",
   "execution_count": 3,
   "metadata": {},
   "outputs": [],
   "source": [
    "genre_input = input('Enter a genre: ')\n",
    "a1 = df[df['Genre 1'] == genre_input.capitalize()]\n",
    "a2 = df[df['Genre 2'] == genre_input.capitalize()]\n",
    "a3 = df[df['Genre 3'] == genre_input.capitalize()]\n",
    "c = a1.append(a2, ignore_index=True).append(a3, ignore_index=True)"
   ]
  },
  {
   "cell_type": "code",
   "execution_count": 4,
   "metadata": {},
   "outputs": [],
   "source": [
    "actors = c['actors']\n",
    "x = []\n",
    "for i in range(len(actors)):\n",
    "    a = str(actors[i]).split('|')\n",
    "    a = [z.strip() for z in a]\n",
    "    x.append(a)\n",
    "te = TransactionEncoder()\n",
    "te = te.fit(x)\n",
    "te_ary = te.transform(x)\n",
    "df = pd.DataFrame(te_ary,columns=te.columns_)\n",
    "frequent_itemsets = apriori(df, min_support =0.0015,use_colnames=True)"
   ]
  },
  {
   "cell_type": "code",
   "execution_count": 5,
   "metadata": {},
   "outputs": [
    {
     "output_type": "execute_result",
     "data": {
      "text/plain": [
       "                          antecedents  \\\n",
       "0                         (Dev Anand)   \n",
       "1                       (A.K. Hangal)   \n",
       "2                       (A.K. Hangal)   \n",
       "3                     (Milind Gunaji)   \n",
       "4                       (A.K. Hangal)   \n",
       "...                               ...   \n",
       "21751  (Vatsal Seth, Yuvika Chaudhry)   \n",
       "21752                          (Tabu)   \n",
       "21753                 (Sharman Joshi)   \n",
       "21754               (Yuvika Chaudhry)   \n",
       "21755                   (Vatsal Seth)   \n",
       "\n",
       "                                         consequents  antecedent support  \\\n",
       "0                                      (A.K. Hangal)            0.002237   \n",
       "1                                        (Dev Anand)            0.002237   \n",
       "2                                    (Milind Gunaji)            0.002237   \n",
       "3                                      (A.K. Hangal)            0.004474   \n",
       "4                                      (Prem Chopra)            0.002237   \n",
       "...                                              ...                 ...   \n",
       "21751                          (Tabu, Sharman Joshi)            0.002237   \n",
       "21752  (Vatsal Seth, Sharman Joshi, Yuvika Chaudhry)            0.006711   \n",
       "21753           (Tabu, Vatsal Seth, Yuvika Chaudhry)            0.022371   \n",
       "21754             (Tabu, Sharman Joshi, Vatsal Seth)            0.004474   \n",
       "21755         (Tabu, Sharman Joshi, Yuvika Chaudhry)            0.006711   \n",
       "\n",
       "       consequent support   support  confidence   lift  leverage  conviction  \n",
       "0                0.002237  0.002237    1.000000  447.0  0.002232         inf  \n",
       "1                0.002237  0.002237    1.000000  447.0  0.002232         inf  \n",
       "2                0.004474  0.002237    1.000000  223.5  0.002227         inf  \n",
       "3                0.002237  0.002237    0.500000  223.5  0.002227    1.995526  \n",
       "4                0.011186  0.002237    1.000000   89.4  0.002212         inf  \n",
       "...                   ...       ...         ...    ...       ...         ...  \n",
       "21751            0.002237  0.002237    1.000000  447.0  0.002232         inf  \n",
       "21752            0.002237  0.002237    0.333333  149.0  0.002222    1.496644  \n",
       "21753            0.002237  0.002237    0.100000   44.7  0.002187    1.108625  \n",
       "21754            0.002237  0.002237    0.500000  223.5  0.002227    1.995526  \n",
       "21755            0.002237  0.002237    0.333333  149.0  0.002222    1.496644  \n",
       "\n",
       "[21756 rows x 9 columns]"
      ],
      "text/html": "<div>\n<style scoped>\n    .dataframe tbody tr th:only-of-type {\n        vertical-align: middle;\n    }\n\n    .dataframe tbody tr th {\n        vertical-align: top;\n    }\n\n    .dataframe thead th {\n        text-align: right;\n    }\n</style>\n<table border=\"1\" class=\"dataframe\">\n  <thead>\n    <tr style=\"text-align: right;\">\n      <th></th>\n      <th>antecedents</th>\n      <th>consequents</th>\n      <th>antecedent support</th>\n      <th>consequent support</th>\n      <th>support</th>\n      <th>confidence</th>\n      <th>lift</th>\n      <th>leverage</th>\n      <th>conviction</th>\n    </tr>\n  </thead>\n  <tbody>\n    <tr>\n      <th>0</th>\n      <td>(Dev Anand)</td>\n      <td>(A.K. Hangal)</td>\n      <td>0.002237</td>\n      <td>0.002237</td>\n      <td>0.002237</td>\n      <td>1.000000</td>\n      <td>447.0</td>\n      <td>0.002232</td>\n      <td>inf</td>\n    </tr>\n    <tr>\n      <th>1</th>\n      <td>(A.K. Hangal)</td>\n      <td>(Dev Anand)</td>\n      <td>0.002237</td>\n      <td>0.002237</td>\n      <td>0.002237</td>\n      <td>1.000000</td>\n      <td>447.0</td>\n      <td>0.002232</td>\n      <td>inf</td>\n    </tr>\n    <tr>\n      <th>2</th>\n      <td>(A.K. Hangal)</td>\n      <td>(Milind Gunaji)</td>\n      <td>0.002237</td>\n      <td>0.004474</td>\n      <td>0.002237</td>\n      <td>1.000000</td>\n      <td>223.5</td>\n      <td>0.002227</td>\n      <td>inf</td>\n    </tr>\n    <tr>\n      <th>3</th>\n      <td>(Milind Gunaji)</td>\n      <td>(A.K. Hangal)</td>\n      <td>0.004474</td>\n      <td>0.002237</td>\n      <td>0.002237</td>\n      <td>0.500000</td>\n      <td>223.5</td>\n      <td>0.002227</td>\n      <td>1.995526</td>\n    </tr>\n    <tr>\n      <th>4</th>\n      <td>(A.K. Hangal)</td>\n      <td>(Prem Chopra)</td>\n      <td>0.002237</td>\n      <td>0.011186</td>\n      <td>0.002237</td>\n      <td>1.000000</td>\n      <td>89.4</td>\n      <td>0.002212</td>\n      <td>inf</td>\n    </tr>\n    <tr>\n      <th>...</th>\n      <td>...</td>\n      <td>...</td>\n      <td>...</td>\n      <td>...</td>\n      <td>...</td>\n      <td>...</td>\n      <td>...</td>\n      <td>...</td>\n      <td>...</td>\n    </tr>\n    <tr>\n      <th>21751</th>\n      <td>(Vatsal Seth, Yuvika Chaudhry)</td>\n      <td>(Tabu, Sharman Joshi)</td>\n      <td>0.002237</td>\n      <td>0.002237</td>\n      <td>0.002237</td>\n      <td>1.000000</td>\n      <td>447.0</td>\n      <td>0.002232</td>\n      <td>inf</td>\n    </tr>\n    <tr>\n      <th>21752</th>\n      <td>(Tabu)</td>\n      <td>(Vatsal Seth, Sharman Joshi, Yuvika Chaudhry)</td>\n      <td>0.006711</td>\n      <td>0.002237</td>\n      <td>0.002237</td>\n      <td>0.333333</td>\n      <td>149.0</td>\n      <td>0.002222</td>\n      <td>1.496644</td>\n    </tr>\n    <tr>\n      <th>21753</th>\n      <td>(Sharman Joshi)</td>\n      <td>(Tabu, Vatsal Seth, Yuvika Chaudhry)</td>\n      <td>0.022371</td>\n      <td>0.002237</td>\n      <td>0.002237</td>\n      <td>0.100000</td>\n      <td>44.7</td>\n      <td>0.002187</td>\n      <td>1.108625</td>\n    </tr>\n    <tr>\n      <th>21754</th>\n      <td>(Yuvika Chaudhry)</td>\n      <td>(Tabu, Sharman Joshi, Vatsal Seth)</td>\n      <td>0.004474</td>\n      <td>0.002237</td>\n      <td>0.002237</td>\n      <td>0.500000</td>\n      <td>223.5</td>\n      <td>0.002227</td>\n      <td>1.995526</td>\n    </tr>\n    <tr>\n      <th>21755</th>\n      <td>(Vatsal Seth)</td>\n      <td>(Tabu, Sharman Joshi, Yuvika Chaudhry)</td>\n      <td>0.006711</td>\n      <td>0.002237</td>\n      <td>0.002237</td>\n      <td>0.333333</td>\n      <td>149.0</td>\n      <td>0.002222</td>\n      <td>1.496644</td>\n    </tr>\n  </tbody>\n</table>\n<p>21756 rows × 9 columns</p>\n</div>"
     },
     "metadata": {},
     "execution_count": 5
    }
   ],
   "source": [
    "rules = association_rules(frequent_itemsets,metric='confidence',min_threshold=0.01)\n",
    "rules"
   ]
  },
  {
   "cell_type": "code",
   "execution_count": 9,
   "metadata": {},
   "outputs": [
    {
     "output_type": "execute_result",
     "data": {
      "text/plain": [
       "                                      antecedents  \\\n",
       "30                                (Saif Ali Khan)   \n",
       "316                               (Saif Ali Khan)   \n",
       "440                               (Saif Ali Khan)   \n",
       "542                               (Saif Ali Khan)   \n",
       "598                               (Saif Ali Khan)   \n",
       "...                                           ...   \n",
       "21296  (Saif Ali Khan, Mayank Amin, Rani Mukerji)   \n",
       "21298                 (Saif Ali Khan, Vic Aviles)   \n",
       "21299                (Saif Ali Khan, Mayank Amin)   \n",
       "21300               (Saif Ali Khan, Rani Mukerji)   \n",
       "21304                             (Saif Ali Khan)   \n",
       "\n",
       "                                   consequents  antecedent support  \\\n",
       "30                                (Aamir Khan)            0.035794   \n",
       "316                         (Aftab Shivdasani)            0.035794   \n",
       "440                            (Akshat Chopra)            0.035794   \n",
       "542                             (Akshay Kumar)            0.035794   \n",
       "598                           (Akshaye Khanna)            0.035794   \n",
       "...                                        ...                 ...   \n",
       "21296                             (Vic Aviles)            0.002237   \n",
       "21298              (Rani Mukerji, Mayank Amin)            0.002237   \n",
       "21299               (Rani Mukerji, Vic Aviles)            0.002237   \n",
       "21300                (Vic Aviles, Mayank Amin)            0.006711   \n",
       "21304  (Rani Mukerji, Vic Aviles, Mayank Amin)            0.035794   \n",
       "\n",
       "       consequent support   support  confidence        lift  leverage  \\\n",
       "30               0.006711  0.002237    0.062500    9.312500  0.001997   \n",
       "316              0.029083  0.002237    0.062500    2.149038  0.001196   \n",
       "440              0.002237  0.002237    0.062500   27.937500  0.002157   \n",
       "542              0.069351  0.002237    0.062500    0.901210 -0.000245   \n",
       "598              0.013423  0.002237    0.062500    4.656250  0.001757   \n",
       "...                   ...       ...         ...         ...       ...   \n",
       "21296            0.002237  0.002237    1.000000  447.000000  0.002232   \n",
       "21298            0.002237  0.002237    1.000000  447.000000  0.002232   \n",
       "21299            0.002237  0.002237    1.000000  447.000000  0.002232   \n",
       "21300            0.002237  0.002237    0.333333  149.000000  0.002222   \n",
       "21304            0.002237  0.002237    0.062500   27.937500  0.002157   \n",
       "\n",
       "       conviction  \n",
       "30       1.059508  \n",
       "316      1.035645  \n",
       "440      1.064280  \n",
       "542      0.992692  \n",
       "598      1.052349  \n",
       "...           ...  \n",
       "21296         inf  \n",
       "21298         inf  \n",
       "21299         inf  \n",
       "21300    1.496644  \n",
       "21304    1.064280  \n",
       "\n",
       "[296 rows x 9 columns]"
      ],
      "text/html": "<div>\n<style scoped>\n    .dataframe tbody tr th:only-of-type {\n        vertical-align: middle;\n    }\n\n    .dataframe tbody tr th {\n        vertical-align: top;\n    }\n\n    .dataframe thead th {\n        text-align: right;\n    }\n</style>\n<table border=\"1\" class=\"dataframe\">\n  <thead>\n    <tr style=\"text-align: right;\">\n      <th></th>\n      <th>antecedents</th>\n      <th>consequents</th>\n      <th>antecedent support</th>\n      <th>consequent support</th>\n      <th>support</th>\n      <th>confidence</th>\n      <th>lift</th>\n      <th>leverage</th>\n      <th>conviction</th>\n    </tr>\n  </thead>\n  <tbody>\n    <tr>\n      <th>30</th>\n      <td>(Saif Ali Khan)</td>\n      <td>(Aamir Khan)</td>\n      <td>0.035794</td>\n      <td>0.006711</td>\n      <td>0.002237</td>\n      <td>0.062500</td>\n      <td>9.312500</td>\n      <td>0.001997</td>\n      <td>1.059508</td>\n    </tr>\n    <tr>\n      <th>316</th>\n      <td>(Saif Ali Khan)</td>\n      <td>(Aftab Shivdasani)</td>\n      <td>0.035794</td>\n      <td>0.029083</td>\n      <td>0.002237</td>\n      <td>0.062500</td>\n      <td>2.149038</td>\n      <td>0.001196</td>\n      <td>1.035645</td>\n    </tr>\n    <tr>\n      <th>440</th>\n      <td>(Saif Ali Khan)</td>\n      <td>(Akshat Chopra)</td>\n      <td>0.035794</td>\n      <td>0.002237</td>\n      <td>0.002237</td>\n      <td>0.062500</td>\n      <td>27.937500</td>\n      <td>0.002157</td>\n      <td>1.064280</td>\n    </tr>\n    <tr>\n      <th>542</th>\n      <td>(Saif Ali Khan)</td>\n      <td>(Akshay Kumar)</td>\n      <td>0.035794</td>\n      <td>0.069351</td>\n      <td>0.002237</td>\n      <td>0.062500</td>\n      <td>0.901210</td>\n      <td>-0.000245</td>\n      <td>0.992692</td>\n    </tr>\n    <tr>\n      <th>598</th>\n      <td>(Saif Ali Khan)</td>\n      <td>(Akshaye Khanna)</td>\n      <td>0.035794</td>\n      <td>0.013423</td>\n      <td>0.002237</td>\n      <td>0.062500</td>\n      <td>4.656250</td>\n      <td>0.001757</td>\n      <td>1.052349</td>\n    </tr>\n    <tr>\n      <th>...</th>\n      <td>...</td>\n      <td>...</td>\n      <td>...</td>\n      <td>...</td>\n      <td>...</td>\n      <td>...</td>\n      <td>...</td>\n      <td>...</td>\n      <td>...</td>\n    </tr>\n    <tr>\n      <th>21296</th>\n      <td>(Saif Ali Khan, Mayank Amin, Rani Mukerji)</td>\n      <td>(Vic Aviles)</td>\n      <td>0.002237</td>\n      <td>0.002237</td>\n      <td>0.002237</td>\n      <td>1.000000</td>\n      <td>447.000000</td>\n      <td>0.002232</td>\n      <td>inf</td>\n    </tr>\n    <tr>\n      <th>21298</th>\n      <td>(Saif Ali Khan, Vic Aviles)</td>\n      <td>(Rani Mukerji, Mayank Amin)</td>\n      <td>0.002237</td>\n      <td>0.002237</td>\n      <td>0.002237</td>\n      <td>1.000000</td>\n      <td>447.000000</td>\n      <td>0.002232</td>\n      <td>inf</td>\n    </tr>\n    <tr>\n      <th>21299</th>\n      <td>(Saif Ali Khan, Mayank Amin)</td>\n      <td>(Rani Mukerji, Vic Aviles)</td>\n      <td>0.002237</td>\n      <td>0.002237</td>\n      <td>0.002237</td>\n      <td>1.000000</td>\n      <td>447.000000</td>\n      <td>0.002232</td>\n      <td>inf</td>\n    </tr>\n    <tr>\n      <th>21300</th>\n      <td>(Saif Ali Khan, Rani Mukerji)</td>\n      <td>(Vic Aviles, Mayank Amin)</td>\n      <td>0.006711</td>\n      <td>0.002237</td>\n      <td>0.002237</td>\n      <td>0.333333</td>\n      <td>149.000000</td>\n      <td>0.002222</td>\n      <td>1.496644</td>\n    </tr>\n    <tr>\n      <th>21304</th>\n      <td>(Saif Ali Khan)</td>\n      <td>(Rani Mukerji, Vic Aviles, Mayank Amin)</td>\n      <td>0.035794</td>\n      <td>0.002237</td>\n      <td>0.002237</td>\n      <td>0.062500</td>\n      <td>27.937500</td>\n      <td>0.002157</td>\n      <td>1.064280</td>\n    </tr>\n  </tbody>\n</table>\n<p>296 rows × 9 columns</p>\n</div>"
     },
     "metadata": {},
     "execution_count": 9
    }
   ],
   "source": [
    "rules[rules['antecedents'].apply(lambda x:set(['Saif Ali Khan']).issubset(x))]"
   ]
  },
  {
   "cell_type": "code",
   "execution_count": 11,
   "metadata": {},
   "outputs": [],
   "source": [
    "frequent_itemsets.to_csv('files/newresultapriori.csv')"
   ]
  },
  {
   "cell_type": "code",
   "execution_count": null,
   "metadata": {},
   "outputs": [],
   "source": []
  }
 ],
 "metadata": {
  "kernelspec": {
   "display_name": "Python 3",
   "language": "python",
   "name": "python3"
  },
  "language_info": {
   "codemirror_mode": {
    "name": "ipython",
    "version": 3
   },
   "file_extension": ".py",
   "mimetype": "text/x-python",
   "name": "python",
   "nbconvert_exporter": "python",
   "pygments_lexer": "ipython3",
   "version": "3.8.5-final"
  }
 },
 "nbformat": 4,
 "nbformat_minor": 2
}